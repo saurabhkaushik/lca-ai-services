{
 "cells": [
  {
   "cell_type": "code",
   "execution_count": 2,
   "metadata": {},
   "outputs": [
    {
     "name": "stderr",
     "output_type": "stream",
     "text": [
      "[nltk_data] Downloading package stopwords to\n",
      "[nltk_data]     /Users/saurabhkaushik/nltk_data...\n",
      "[nltk_data]   Package stopwords is already up-to-date!\n",
      "[nltk_data] Downloading package wordnet to\n",
      "[nltk_data]     /Users/saurabhkaushik/nltk_data...\n",
      "[nltk_data]   Package wordnet is already up-to-date!\n",
      "[nltk_data] Downloading package omw-1.4 to\n",
      "[nltk_data]     /Users/saurabhkaushik/nltk_data...\n",
      "[nltk_data]   Package omw-1.4 is already up-to-date!\n",
      "[nltk_data] Downloading package punkt to\n",
      "[nltk_data]     /Users/saurabhkaushik/nltk_data...\n",
      "[nltk_data]   Package punkt is already up-to-date!\n",
      "[nltk_data] Downloading package averaged_perceptron_tagger to\n",
      "[nltk_data]     /Users/saurabhkaushik/nltk_data...\n",
      "[nltk_data]   Package averaged_perceptron_tagger is already up-to-\n",
      "[nltk_data]       date!\n",
      "[nltk_data] Downloading package brown to\n",
      "[nltk_data]     /Users/saurabhkaushik/nltk_data...\n",
      "[nltk_data]   Package brown is already up-to-date!\n"
     ]
    },
    {
     "data": {
      "text/plain": [
       "True"
      ]
     },
     "execution_count": 2,
     "metadata": {},
     "output_type": "execute_result"
    }
   ],
   "source": [
    "import nltk\n",
    "import ssl\n",
    "\n",
    "try:\n",
    "    _create_unverified_https_context = ssl._create_unverified_context\n",
    "except AttributeError:\n",
    "    pass\n",
    "else:\n",
    "    ssl._create_default_https_context = _create_unverified_https_context\n",
    "\n",
    "nltk.download('stopwords')\n",
    "nltk.download('wordnet')\n",
    "nltk.download('omw-1.4')\n",
    "nltk.download('punkt')\n",
    "nltk.download('averaged_perceptron_tagger')\n",
    "nltk.download('brown')\n",
    "\n",
    "!pip3 install negspacy\n"
   ]
  },
  {
   "cell_type": "code",
   "execution_count": 1,
   "metadata": {},
   "outputs": [
    {
     "name": "stderr",
     "output_type": "stream",
     "text": [
      "/Users/saurabhkaushik/Workspace/lca-ai-services/env/lib/python3.7/site-packages/tqdm/auto.py:22: TqdmWarning: IProgress not found. Please update jupyter and ipywidgets. See https://ipywidgets.readthedocs.io/en/stable/user_install.html\n",
      "  from .autonotebook import tqdm as notebook_tqdm\n",
      "2022-11-12 15:17:29.998272: I tensorflow/core/platform/cpu_feature_guard.cc:193] This TensorFlow binary is optimized with oneAPI Deep Neural Network Library (oneDNN) to use the following CPU instructions in performance-critical operations:  AVX2 AVX512F AVX512_VNNI FMA\n",
      "To enable them in other operations, rebuild TensorFlow with the appropriate compiler flags.\n"
     ]
    },
    {
     "name": "stdout",
     "output_type": "stream",
     "text": [
      "SELECT * from genuine-wording-362504.lca_db.contract_data where id = '35884e19-cfff-4ec8-b34d-2e30a6f6164f'\n"
     ]
    }
   ],
   "source": [
    "import spacy\n",
    "nlp = spacy.load('en_core_web_sm')\n",
    "from app.BQUtility import BQUtility\n",
    "import re\n",
    "from app.PreProcessText import PreProcessText\n",
    "\n",
    "processTxt = PreProcessText()\n",
    "dbutil = BQUtility()\n",
    "\n",
    "\n",
    "results = dbutil.get_contracts_id('35884e19-cfff-4ec8-b34d-2e30a6f6164f')\n",
    "\n",
    "about_text = ''\n",
    "for row in results:       \n",
    "    about_text = row['content']\n",
    "about_doc = nlp(about_text)\n",
    "sentences = list(about_doc.sents)\n",
    "\n"
   ]
  },
  {
   "cell_type": "code",
   "execution_count": 2,
   "metadata": {},
   "outputs": [
    {
     "name": "stdout",
     "output_type": "stream",
     "text": [
      "SELECT * from genuine-wording-362504.lca_db.seed_data\n",
      "Keywords:  ['company', 'current liabilities', 'year', 'liabilities', 'bonds', 'examples', '12 months', 'liability', 'balance sheet', 'contingent liabilities', 'noncurrent liabilities', 'future', 'interest', 'period', 'longterm liabilities', 'business', 'accounts', 'assets', 'example', 'case', 'cash', 'outcome', 'items', 'expenses', 'value', 'creditors', 'working capital', '1', 'principal', 'current portion', 'contingent liability', 'maturity', '2', 'loans', 'deferred tax liabilities', 'taxes', 'financial obligations', 'shortterm loans', 'mortgage', 'longterm debt', 'salaries', 'shortterm liabilities', 'notes', 'investors', 'analysts', 'tax', 'lender', 'businesses', 'monthly', 'difference', 'longterm loan', 'long term liabilities', 'type', '50', '', 'account', 'services', 'crucial metrics', 'noncurrent liability', 'line item', 'capital', 'shortterm loan', 'issuer', 'entity', '50 chance', 'pension obligations', 'income taxes', 'accrued expenses', 'bank', 'liquidity', 'legal expenses', 'future earnings', 'current assets', 'vendors', 'borrowings', 'monthly utilities', 'interest expense', 'bond', 'insufficient funds', 'asset', 'obligations', 'organizations', 'goods', 'typical list', 'property', 'organisation', 'purchase', 'income statement', 'heading', 'borrower', 'market prices', 'longterm liability', 'note', 'date', '4', 'companies', '3', 'lease', 'time', 'debts', 'product warranties', 'opposite party', 'warranty liability', 'payment', 'bank account', 'debentures', 'current liability', 'ap', 'workday', 'shortterm liability', 'guiding component', 'accumulated vested projected benefits', 'current period', 'rents', 'discontinued operations', 'longterm loans', 'equal installments', 'economic benefit', 'entity’s pension plan', 'course', 'lawsuits', 'company’s financial health', 'outstanding accrued expenses', 'garden variety company', 'lessee', 'rental contract', 'financing', 'new capital projects', 'instance', 'business operations', 'employees', 'expense', 'unpaid vendors', 'nearterm', 'unearned revenue', 'following types', 'potential', 'standing', 'liquidated damages', 'knowledge', 'terms', 'pension liabilities', 'hirer', 'appropriate tax authorities', '3 capital leases', 'vendor', 'contract', 'potential liabilities', 'finance lease', 'low percentage', 'long term debts', 'ratios', 'longterm liabilities companies', 'accounting', 'future net profitability', 'possible liabilities', 'longterm', 'pricing', 'financial statements', 'lawsuit', 'entities', 'understanding', 'company’s cash flow', 'special category', 'group', 'rent', 'cash cycle', 'occurrence', 'actual tax', 'crisis', 'financing transactions', 'litigation', 'longterm bonds', 'quick ratio current assets', 'direct impact', 'semiannually', 'contingent liability evaluation', 'term current liabilities', 'required capital', 'promise', 'solvency issue', 'incurred interest', 'better decisions', 'wages', 'ownership', 'accrued interest', 'monthly quarterly payments', 'outstanding lawsuits', 'footnote', 'largest current liability', 'renter books assets', '4 accrued expenses', 'transfers', 'virtue', 'term pension obligation', 'profit generation', 'mortgage loans', 'oid', 'bank account overdrafts', 'regular business operations', 'priority', 'useful metric', 'probability', 'loan term', 'greater year', 'cash flow', 'payroll', 'words', 'settlement', 'debt', 'corporations', 'company’s vendors', 'deferred revenue', 'longterm warranties', 'adjustablerate mortgages', 'equipment', 'potential obligation', 'item', 'deferred compensation', 'unearned revenues', 'fact', 'economic characteristics', 'purpose', '12months', '20000 rupees', 'bank overdraft', 'ongoing longterm operations', 'balance sheet reserves money', 'inventory', 'formidable quantifiers', 'loan', 'sizes', 'common examples', 'conditions', 'company’s liquidity', 'largest liability', 'lessee’s obligation', 'deferred tax', 'explained', 'income tax', '5 years', 'arrears', 'quick ratio', 'cash ratio', 'longterm debts', 'current ratio current assets', 'longterm debt loans', '4 debentures', 'company’s workday functions', 'par', '1 interest payable', 'finance leases', 'certain requirements', 'sales', 'respective industry', 'original issue discount', 'capital operations', 'finance', 'extent', 'capital assets', 'promissory note', 'accounting records', 'long reliable relationship', 'form', 'place', 'early payment', 'funds', 'eg invoice', 'portion', 'owner', 'overdrafts', 'essential', 'outstanding bonds', 'notes receivable', 'substantially', 'suppliers', 'raw material', 'governments', 'uncertain future event', 'short run', 'accounting period', 'supporting documentation', 'shortterm debt', 'ie 12 months', 'current ratio', 'postretirement liabilities', 'similar expenses', '‘provisions', 'year 12 months', 'yettobepaid bills', 'government probes', 'att', 'special type', 'issuance', 'money', 'rewards', 'organization', 'act', 'party', 'effectively leasing company', 'receipt', 'longterm investments', 'common types', 'market yield', 'income tax payables', 'longterm rental agreement', 'different categories', 'fixed period', 'headinh', 'mortgage payablelongterm debt', 'accrued liabilities', 'financial liabilities', 'promissory notes', 'unamortized investment tax credits', 'postemployment benefits', 'financial liability', 'leases leases', 'present value', '1month', 'journal entry', 'trade', 'future event', 'warranties', 'title', 'books', '3 short term loans', 'government', 'fiscal year', 'utility bills', 'certain circumstances', 'current 12months', 'solvency', '5', 'investigation', 'repayment', '2 accounts', 'invoice', 'coupon rate', 'category', 'deferred taxes', 'relation', 'bills payables', 'interest liability', 'discount', 'owner’s capital', 'borrowed principal', 'risks', 'hospitals', 'types', 'accrued expenses expenses', 'noncurrent debts', 'primary example', 'cash ratio cash', 'definition', 'legal liabilities', 'explanation', 'primarily functions', 'cash equivalents', 'relatively short turnaround time', 'asset ownership', 'percentage', 'written note', 'agreed date', 'payroll expenses', 'important indicator', 'longterm solvency', 'management', '1month time', 'experts', 'stronger evidence', '5 bank overdraft', 'sum', 'uitc', 'potential probable liabilities', 'constant flux', 'company’s potential', 'court', 'service providers', 'deferred credits', '2 lawsuits', 'interest payable interest expense', 'expenditure', 'order', 'period 12 months', 'interest payable', 'risk', 'different types', 'company’s shortterm financial strength', 'premium', 'longterm notes', 'timing', 'user', 'point', 'list', 'investment purposes', 'remedies', 'customer deposits', 'budgeted cost', '20000', 'rates', 'accounting standards', 'event', 'method', 'following conditions', 'customer', 'formal promise', 'bills', 'company’s outstanding bonds', 'decision', 'dividends payable', 'att example', 'bankability', 'specific expense', 'shareholders', 'notes payable', 'sufficient liquidity', 'temporary basis', 'lessor', 'agreement', 'accrued payroll', 'accounting context', 'quarterly', 'borrowed capital', 'accounting purposes']\n",
      "Sentence : Cash and cash equivalents and current Marketable securities, and $378 million in Prepaid expenses and other current assets.\n",
      "Original Score:  70\n",
      "Adjusted Score:  70.0\n",
      "Sentence : Nick has high warranty liability, but he has does not high wealth.\n",
      "Original Score:  70\n",
      "Adjusted Score:  70.0\n",
      "Sentence : Nick has low warranty liability\n",
      "Original Score:  70\n",
      "Adjusted Score:  70.0\n",
      "Sentence : Nick dont have warranty liability.\n",
      "Original Score:  70\n",
      "Adjusted Score:  70.0\n",
      "Sentence : Nick has warranty liability.\n",
      "Original Score:  70\n",
      "Adjusted Score:  70.0\n",
      "Sentence : She does not like Steve Jobs but likes Apple products.\n",
      "Original Score:  70\n",
      "Adjusted Score:  70.0\n",
      "Sentence : He does not like Adolf Hitler but likes German products.\n",
      "Original Score:  70\n",
      "Adjusted Score:  70.0\n",
      "Sentence : There is no English language option.\n",
      "Original Score:  70\n",
      "Adjusted Score:  70.0\n"
     ]
    }
   ],
   "source": [
    "from app.Risk_Score_Service import Risk_Score_Service\n",
    "from negspacy.negation import Negex\n",
    "\n",
    "import spacy \n",
    "nlp.add_pipe(\"negex\")\n",
    "nlp = spacy.load('en_core_web_sm')\n",
    "\n",
    "text_list1 = ['Cash and cash equivalents and current Marketable securities, and $378 million in Prepaid expenses and other current assets.', \n",
    "    'Organsation has high warranty liability', 'Organsation has low warranty liability', 'Organsation dont have warranty liability', 'Organsation has warranty liability']\n",
    "\n",
    "text_list2 = ['Cash and cash equivalents and current Marketable securities, and $378 million in Prepaid expenses and other current assets.', \n",
    "    'Nick has high warranty liability, but he has does not high wealth.', 'Nick has low warranty liability', 'Nick dont have warranty liability.', 'Nick has warranty liability.','She does not like Steve Jobs but likes Apple products.',\n",
    "    'He does not like Adolf Hitler but likes German products.', 'There is no English language option.']\n",
    "\n",
    "risk_scorer = Risk_Score_Service()\n",
    "keywords = risk_scorer.get_keywords()\n",
    "\n",
    "for sentence in text_list2:\n",
    "    score = 70\n",
    "    print('Sentence :', sentence)\n",
    "    print('Original Score: ', score)\n",
    "    adj_score = risk_scorer.calculate_score(sentence, score, keywords)\n",
    "    print('Adjusted Score: ', adj_score)\n",
    "\n"
   ]
  },
  {
   "cell_type": "code",
   "execution_count": null,
   "metadata": {},
   "outputs": [],
   "source": [
    "positive_keywords = ['']\n",
    "negative_keywords = ['']"
   ]
  },
  {
   "cell_type": "code",
   "execution_count": null,
   "metadata": {},
   "outputs": [],
   "source": [
    "print ('Spacy Sentences Starts >>>>')\n",
    "for sentence in sentences:\n",
    "    print ('New Sentence : ', sentence)\n",
    "\n",
    "print ('Regular Exp Sentences Starts >>>>')\n",
    "\n",
    "sentences = re.split(r' *[\\.\\?!][\\'\"\\)\\]]* *', about_text)             \n",
    "for c_sentence in sentences: \n",
    "    print ('New Sentence : ', c_sentence)"
   ]
  },
  {
   "cell_type": "code",
   "execution_count": null,
   "metadata": {},
   "outputs": [],
   "source": [
    "from spacytextblob.spacytextblob import SpacyTextBlob\n",
    "\n",
    "nlp = spacy.load('en_core_web_sm')\n",
    "\n",
    "''' \n",
    "nlp.add_pipe('spacytextblob')\n",
    "\n",
    "text = 'I had a really horrible day. It was the worst day ever! But every now and then I have a really good day that makes me happy.'\n",
    "doc = nlp(text)\n",
    "\n",
    "polarity = doc._.blob.polarity                            # Polarity: -0.125\n",
    "doc._.blob.subjectivity                        # Subjectivity: 0.9\n",
    "doc._.blob.sentiment_assessments.assessments   # Assessments: [(['really', 'horrible'], -1.0, 1.0, None), (['worst', '!'], -1.0, 1.0, None), (['really', 'good'], 0.7, 0.6000000000000001, None), (['happy'], 0.8, 1.0, None)]\n",
    "doc._.blob.ngrams()                            # [WordList(['I', 'had', 'a']), WordList(['had', 'a', 'really']), WordList(['a', 'really', 'horrible']), WordList(['really', 'horrible', 'day']), WordList(['horrible', 'day', 'It']), WordList(['day', 'It', 'was']), WordList(['It', 'was', 'the']), WordList(['was', 'the', 'worst']), WordList(['the', 'worst', 'day']), WordList(['worst', 'day', 'ever']), WordList(['day', 'ever', 'But']), WordList(['ever', 'But', 'every']), WordList(['But', 'every', 'now']), WordList(['every', 'now', 'and']), WordList(['now', 'and', 'then']), WordList(['and', 'then', 'I']), WordList(['then', 'I', 'have']), WordList(['I', 'have', 'a']), WordList(['have', 'a', 'really']), WordList(['a', 'really', 'good']), WordList(['really', 'good', 'day']), WordList(['good', 'day', 'that']), WordList(['day', 'that', 'makes']), WordList(['that', 'makes', 'me']), WordList(['makes', 'me', 'happy'])]\n",
    "print ('Polarity:', polarity) \n",
    "'''\n"
   ]
  }
 ],
 "metadata": {
  "kernelspec": {
   "display_name": "Python 3.7.9 ('env': venv)",
   "language": "python",
   "name": "python3"
  },
  "language_info": {
   "codemirror_mode": {
    "name": "ipython",
    "version": 3
   },
   "file_extension": ".py",
   "mimetype": "text/x-python",
   "name": "python",
   "nbconvert_exporter": "python",
   "pygments_lexer": "ipython3",
   "version": "3.7.9"
  },
  "orig_nbformat": 4,
  "vscode": {
   "interpreter": {
    "hash": "9e5532c3338948ef3923f84fcb49a3fec3185e68b18b7cb85088cd68c49cbe22"
   }
  }
 },
 "nbformat": 4,
 "nbformat_minor": 2
}
