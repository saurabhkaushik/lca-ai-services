{
 "cells": [
  {
   "cell_type": "code",
   "execution_count": 1,
   "metadata": {},
   "outputs": [
    {
     "name": "stderr",
     "output_type": "stream",
     "text": [
      "/Users/saurabhkaushik/Workspace/lca-ai-services/env/lib/python3.7/site-packages/tqdm/auto.py:22: TqdmWarning: IProgress not found. Please update jupyter and ipywidgets. See https://ipywidgets.readthedocs.io/en/stable/user_install.html\n",
      "  from .autonotebook import tqdm as notebook_tqdm\n",
      "2022-11-02 14:07:25.286283: I tensorflow/core/platform/cpu_feature_guard.cc:193] This TensorFlow binary is optimized with oneAPI Deep Neural Network Library (oneDNN) to use the following CPU instructions in performance-critical operations:  AVX2 AVX512F AVX512_VNNI FMA\n",
      "To enable them in other operations, rebuild TensorFlow with the appropriate compiler flags.\n"
     ]
    }
   ],
   "source": [
    "from app.classify_service import classify_service as Classify_Service\n",
    "from app.DBUtility import DBUtility\n",
    "from app.BQUtility import BQUtility\n",
    "from app.highlight_service import highlight_service\n",
    "from app.data_loader import data_loader\n",
    "\n",
    "class_service = Classify_Service()\n",
    "dbutil = BQUtility() \n",
    "data_load = data_loader()\n",
    "high_service = highlight_service()   \n",
    "\n",
    "def setup_dataset():\n",
    "    print(\"db_cleanup():\")\n",
    "    #dbutil.db_cleanup()\n",
    "\n",
    "    print(\"create_database():\")\n",
    "    #dbutil.create_database() \n",
    "    \n",
    "    print(\"prep_contract_data():\")\n",
    "    #data_load.prep_contract_data()\n",
    "\n",
    "    print(\"prep_keywords_training_data():\")\n",
    "    #data_load.prep_keywords_training_data()\n",
    "\n",
    "    print(\"prep_statement_training_data():\")\n",
    "    #data_load.prep_statement_training_data()\n",
    "    \n",
    "    print(\"seed_training_corpus():\")\n",
    "    #high_service.seed_training_corpus()  \n",
    "\n",
    "def generated_dataset():\n",
    "    print(\"generated_cleanup():\")\n",
    "    dbutil.generated_cleanup()\n",
    "\n",
    "    print(\"prepare_train_dataset()-1:\")\n",
    "    train_hg, valid_hg = class_service.prepare_train_dataset()\n",
    "\n",
    "    print(\"training()-1:\")\n",
    "    model = class_service.training(train_hg, valid_hg)    \n",
    "\n",
    "    print(\"contract_training_data():\")\n",
    "    class_service.contract_training_data()\n",
    "\n",
    "def model_training():\n",
    "    print(\"prepare_train_dataset()-2:\")\n",
    "    train_hg, valid_hg = class_service.prepare_train_dataset(type=\"seed\")\n",
    "    \n",
    "    print(\"training()-2:\")\n",
    "    model = class_service.training(train_hg, valid_hg)   \n",
    "\n"
   ]
  },
  {
   "cell_type": "code",
   "execution_count": null,
   "metadata": {},
   "outputs": [],
   "source": []
  }
 ],
 "metadata": {
  "kernelspec": {
   "display_name": "Python 3.7.9 ('env': venv)",
   "language": "python",
   "name": "python3"
  },
  "language_info": {
   "codemirror_mode": {
    "name": "ipython",
    "version": 3
   },
   "file_extension": ".py",
   "mimetype": "text/x-python",
   "name": "python",
   "nbconvert_exporter": "python",
   "pygments_lexer": "ipython3",
   "version": "3.7.9"
  },
  "orig_nbformat": 4,
  "vscode": {
   "interpreter": {
    "hash": "9e5532c3338948ef3923f84fcb49a3fec3185e68b18b7cb85088cd68c49cbe22"
   }
  }
 },
 "nbformat": 4,
 "nbformat_minor": 2
}
