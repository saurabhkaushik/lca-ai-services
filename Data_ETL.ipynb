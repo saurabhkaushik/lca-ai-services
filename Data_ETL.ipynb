{
 "cells": [
  {
   "cell_type": "code",
   "execution_count": null,
   "metadata": {},
   "outputs": [],
   "source": [
    "from app.Data_ETL_Pipeline import Data_ETL_Pipeline\n",
    "from app.common.MySQLUtility import MySQLUtility\n",
    "import os \n",
    "\n",
    "domains = ['esg', 'liabilities' ] #'liabilities', 'esg'\n",
    "os.environ['GOOGLE_APPLICATION_CREDENTIALS'] = './config/gcp/genuine-wording-key.json'\n",
    "\n",
    "DB_HOST = '34.170.168.203'\n",
    "DB_USER = 'root'\n",
    "DB_PASSWORD = 'nu123456'\n",
    "DB_NAME = 'lca_dev'\n",
    "mode = 'accuracy'\n",
    "\n",
    "dbutil = MySQLUtility(DB_HOST, DB_USER, DB_PASSWORD, DB_NAME)\n",
    "\n",
    "dbloader = Data_ETL_Pipeline(dbutil, domains, mode)\n",
    "dbloader.create_dataset()\n",
    "dbloader.load_file_data()\n",
    "dbloader.process_seed_training_data() \n",
    "dbloader.process_keyword_model()\n",
    "dbloader.process_transformer_model()\n",
    "dbloader.evaluate_results()\n"
   ]
  },
  {
   "cell_type": "code",
   "execution_count": null,
   "metadata": {},
   "outputs": [],
   "source": [
    "from app.common.GCP_Storage import GCP_Storage\n",
    "\n",
    "import os \n",
    "os.environ['GOOGLE_APPLICATION_CREDENTIALS'] = './config/gcp/genuine-wording-key.json'\n",
    "\n",
    "domains = ['liabilities', 'esg']\n",
    "bucket_name = 'lca_dev'\n",
    "loader = GCP_Storage(domains, bucket_name)\n",
    "\n",
    "#loader.setup_bucket()\n",
    "#loader.upload_models()\n",
    "#loader.download_models()\n",
    "#loader.download_seed_data()\n",
    "#loader.upload_seed_data()"
   ]
  }
 ],
 "metadata": {
  "kernelspec": {
   "display_name": "Python 3.7.9 ('env': venv)",
   "language": "python",
   "name": "python3"
  },
  "language_info": {
   "codemirror_mode": {
    "name": "ipython",
    "version": 3
   },
   "file_extension": ".py",
   "mimetype": "text/x-python",
   "name": "python",
   "nbconvert_exporter": "python",
   "pygments_lexer": "ipython3",
   "version": "3.7.9 (v3.7.9:13c94747c7, Aug 15 2020, 01:31:08) \n[Clang 6.0 (clang-600.0.57)]"
  },
  "orig_nbformat": 4,
  "vscode": {
   "interpreter": {
    "hash": "9e5532c3338948ef3923f84fcb49a3fec3185e68b18b7cb85088cd68c49cbe22"
   }
  }
 },
 "nbformat": 4,
 "nbformat_minor": 2
}
