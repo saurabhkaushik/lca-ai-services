{
 "cells": [
  {
   "cell_type": "code",
   "execution_count": null,
   "metadata": {},
   "outputs": [],
   "source": [
    "import spacy\n",
    "from app.MySQLUtility import MySQLUtility\n",
    "import re\n",
    "from app.PreProcessText import PreProcessText\n",
    "\n",
    "nlp = spacy.load('en_core_web_sm')\n",
    "processTxt = PreProcessText()\n",
    "dbutil = MySQLUtility()\n",
    "\n",
    "results = dbutil.get_contracts_id('35884e19-cfff-4ec8-b34d-2e30a6f6164f')\n",
    "\n",
    "about_text = ''\n",
    "for row in results:       \n",
    "    about_text = row['content']\n",
    "about_doc = nlp(about_text)\n",
    "sentences = list(about_doc.sents)\n",
    "\n",
    "print ('Spacy Sentences Starts >>>>')\n",
    "for sentence in sentences:\n",
    "    print ('New Sentence : ', sentence)\n",
    "\n",
    "print ('Regular Exp Sentences Starts >>>>')\n",
    "\n",
    "sentences = re.split(r' *[\\.\\?!][\\'\"\\)\\]]* *', about_text)             \n",
    "for c_sentence in sentences: \n",
    "    print ('New Sentence : ', c_sentence)"
   ]
  }
 ],
 "metadata": {
  "kernelspec": {
   "display_name": "Python 3.7.9 ('env': venv)",
   "language": "python",
   "name": "python3"
  },
  "language_info": {
   "name": "python",
   "version": "3.7.9"
  },
  "orig_nbformat": 4,
  "vscode": {
   "interpreter": {
    "hash": "9e5532c3338948ef3923f84fcb49a3fec3185e68b18b7cb85088cd68c49cbe22"
   }
  }
 },
 "nbformat": 4,
 "nbformat_minor": 2
}
