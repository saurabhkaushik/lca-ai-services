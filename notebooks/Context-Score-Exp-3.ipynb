{
 "cells": [
  {
   "cell_type": "code",
   "execution_count": null,
   "metadata": {},
   "outputs": [],
   "source": [
    "#!pip3 install spacytextblob\n",
    "#!pip3 install negspacy "
   ]
  },
  {
   "cell_type": "code",
   "execution_count": 1,
   "metadata": {},
   "outputs": [],
   "source": [
    "text = 'I had a really horrible day. It was the worst day ever! But every now and then I have a really good day that makes me happy.'\n",
    "text_list1 = [\"Cash and cash equivalents and current Marketable securities, and $378 million in Prepaid expenses and other current assets.\", \"The company has recieved $417 million for the payment of interest. \"]\n",
    "text_list3 = ['This loan debt is increasing my financial burden.', 'This loan debt is decreasing my financial burden.']\n",
    "text_list4 = ['Cash and cash equivalents and current Marketable securities, and $378 million in Prepaid expenses and other current assets.', \n",
    "    'Nick has high warranty liability, but he has does not high wealth.', 'Nick has low warranty liability.', 'Nick dont have warranty liability.', 'Nick has warranty liability.','She does not like Steve Jobs but likes Apple products.',\n",
    "    'He does not like Adolf Hitler but likes German products.', 'There is no English language option.', 'I had very high shortterm loans.']\n"
   ]
  },
  {
   "cell_type": "code",
   "execution_count": 2,
   "metadata": {},
   "outputs": [
    {
     "name": "stderr",
     "output_type": "stream",
     "text": [
      "/Users/saurabhkaushik/Workspace/lca-ai-services/env/lib/python3.7/site-packages/tqdm/auto.py:22: TqdmWarning: IProgress not found. Please update jupyter and ipywidgets. See https://ipywidgets.readthedocs.io/en/stable/user_install.html\n",
      "  from .autonotebook import tqdm as notebook_tqdm\n"
     ]
    }
   ],
   "source": [
    "from app.common.MySQLUtility import MySQLUtility\n",
    "import os \n",
    "\n",
    "domains = ['esg', 'liabilities' ] #'liabilities', 'esg'\n",
    "os.environ['GOOGLE_APPLICATION_CREDENTIALS'] = './store/genuine-wording-key.json'\n",
    "\n",
    "DB_HOST = '34.170.168.203'\n",
    "DB_USER = 'root'\n",
    "DB_PASSWORD = 'nu123456'\n",
    "DB_NAME = 'lca_db'\n",
    "\n",
    "dbutil = MySQLUtility(DB_HOST, DB_USER, DB_PASSWORD, DB_NAME)\n"
   ]
  },
  {
   "cell_type": "code",
   "execution_count": 3,
   "metadata": {},
   "outputs": [
    {
     "name": "stdout",
     "output_type": "stream",
     "text": [
      "Sentence :  Cash and cash equivalents and current Marketable securities, and $378 million in Prepaid expenses and other current assets.\n",
      "Polarity:  -0.041666666666666664\n",
      "Semantic :  100.0\n",
      "[{'label': 'NEGATIVE', 'score': 0.8626590371131897}]\n",
      "Sentiment : -86.26590371131897\n",
      "\n",
      "\n",
      "Sentence :  Nick has high warranty liability, but he has does not high wealth.\n",
      "Polarity:  0.04\n",
      "Semantic :  100.0\n",
      "[{'label': 'NEGATIVE', 'score': 0.9978210926055908}]\n",
      "Sentiment : -99.78210926055908\n",
      "\n",
      "\n",
      "Sentence :  Nick has low warranty liability.\n",
      "Polarity:  0.0\n",
      "Semantic :  100.0\n",
      "[{'label': 'NEGATIVE', 'score': 0.9980202913284302}]\n",
      "Sentiment : -99.80202913284302\n",
      "\n",
      "\n",
      "Sentence :  Nick dont have warranty liability.\n",
      "Polarity:  0.0\n",
      "Semantic :  100.0\n",
      "[{'label': 'NEGATIVE', 'score': 0.8478177189826965}]\n",
      "Sentiment : -84.78177189826965\n",
      "\n",
      "\n",
      "Sentence :  Nick has warranty liability.\n",
      "Polarity:  0.0\n",
      "Semantic :  100.0\n",
      "[{'label': 'NEGATIVE', 'score': 0.9981701374053955}]\n",
      "Sentiment : -99.81701374053955\n",
      "\n",
      "\n",
      "Sentence :  She does not like Steve Jobs but likes Apple products.\n",
      "Polarity:  0.0\n",
      "Semantic :  100.0\n",
      "[{'label': 'POSITIVE', 'score': 0.9887738227844238}]\n",
      "Sentiment : 98.87738227844238\n",
      "\n",
      "\n",
      "Sentence :  He does not like Adolf Hitler but likes German products.\n",
      "Polarity:  0.0\n",
      "Semantic :  100.0\n",
      "[{'label': 'POSITIVE', 'score': 0.9923375248908997}]\n",
      "Sentiment : 99.23375248908997\n",
      "\n",
      "\n",
      "Sentence :  There is no English language option.\n",
      "Polarity:  0.0\n",
      "Semantic :  100.0\n",
      "[{'label': 'NEGATIVE', 'score': 0.9995936751365662}]\n",
      "Sentiment : -99.95936751365662\n",
      "\n",
      "\n",
      "Sentence :  I had very high shortterm loans.\n",
      "Polarity:  0.20800000000000002\n",
      "Semantic :  100.0\n",
      "[{'label': 'NEGATIVE', 'score': 0.9955904483795166}]\n",
      "Sentiment : -99.55904483795166\n",
      "\n",
      "\n"
     ]
    }
   ],
   "source": [
    "# Spacy Implementation \n",
    "import spacy\n",
    "from spacytextblob.spacytextblob import SpacyTextBlob\n",
    "from negspacy.negation import Negex\n",
    "from app.Risk_Score_Service import Risk_Score_Service\n",
    "\n",
    "ppt = Risk_Score_Service(dbutil)\n",
    "nlp = spacy.load('en_core_web_md')\n",
    "nlp.add_pipe('spacytextblob')\n",
    "nlp.add_pipe(\"negex\", config={\"ent_types\":[\"PERSON\",\"ORG\"]})\n",
    "\n",
    "for text in text_list4:\n",
    "    doc = nlp(text)\n",
    "    print ('Sentence : ', text)\n",
    "    print('Polarity: ', doc._.blob.polarity)\n",
    "    print ('Semantic : ', ppt.get_semantic_score(text))\n",
    "    print ('Sentiment :', ppt.get_sentiment_score(text))\n",
    "    #print('Subjectivity: ', doc._.blob.subjectivity)\n",
    "    #print('Sentiments: ', doc._.blob.sentiment_assessments.assessments)\n",
    "    #print('N Grams : ', doc._.blob.ngrams() )\n",
    "    print('\\n')\n",
    "    #for e in doc.ents:\n",
    "    #    print(e.text, e._.negex)"
   ]
  }
 ],
 "metadata": {
  "kernelspec": {
   "display_name": "Python 3.7.9 ('env': venv)",
   "language": "python",
   "name": "python3"
  },
  "language_info": {
   "codemirror_mode": {
    "name": "ipython",
    "version": 3
   },
   "file_extension": ".py",
   "mimetype": "text/x-python",
   "name": "python",
   "nbconvert_exporter": "python",
   "pygments_lexer": "ipython3",
   "version": "3.7.9 (v3.7.9:13c94747c7, Aug 15 2020, 01:31:08) \n[Clang 6.0 (clang-600.0.57)]"
  },
  "orig_nbformat": 4,
  "vscode": {
   "interpreter": {
    "hash": "9e5532c3338948ef3923f84fcb49a3fec3185e68b18b7cb85088cd68c49cbe22"
   }
  }
 },
 "nbformat": 4,
 "nbformat_minor": 2
}
