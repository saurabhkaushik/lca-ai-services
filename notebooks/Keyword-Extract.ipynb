{
 "cells": [
  {
   "cell_type": "code",
   "execution_count": null,
   "metadata": {},
   "outputs": [],
   "source": [
    "import pandas as pd\n",
    "import nltk\n",
    "import spacy\n",
    "from tqdm import tqdm\n",
    "\n",
    "seed_file ='./cuad-data/seed_data copy.csv'\n",
    "nlp = spacy.load(\"en_core_web_sm\")\n",
    "\n",
    "def create_tokens(dataframe):\n",
    "    tokens = []\n",
    "    for doc in tqdm(nlp.pipe(dataframe)):        \n",
    "        if doc.is_parsed:\n",
    "            tokens.append([n.lemma_.lower() for n in doc if (not n.is_punct and not n.is_space and not n.is_stop)])\n",
    "        else:\n",
    "            tokens.append(\"\")\n",
    "    return tokens\n",
    "\n",
    "raw = pd.read_csv(seed_file)\n",
    "question_tokens = create_tokens(raw['Statements'])\n",
    "\n",
    "''' print (raw['Statements'])\n",
    "for rwo in raw['Statements']: \n",
    "    question_tokens = create_tokens(raw['Statements'])\n",
    "    ''' "
   ]
  },
  {
   "cell_type": "code",
   "execution_count": null,
   "metadata": {},
   "outputs": [],
   "source": [
    "!pip3 install textacy \n",
    "import textacy\n",
    "\n",
    "text = \" \".join(raw.tolist())\n",
    "nlp = spacy.load('en_core_web_md')\n",
    "nlp.max_length = len(text)\n",
    "keywords = []\n",
    "\n",
    "for tokenlist in tqdm(question_tokens):\n",
    "    doc = nlp(\" \".join(tokenlist))\n",
    "    extract = textacy.ke.sgrank(doc, ngrams=(1), window_size=2, normalize=None, topn = 2, include_pos=['NOUN', 'PROPN'])\n",
    "    for a, b in extract:\n",
    "        keywords.append(a)\n",
    "\n",
    "res = sorted(set(keywords), key = lambda x: keywords.count(x), reverse=True)"
   ]
  }
 ],
 "metadata": {
  "kernelspec": {
   "display_name": "env",
   "language": "python",
   "name": "python3"
  },
  "language_info": {
   "name": "python",
   "version": "3.7.9 (v3.7.9:13c94747c7, Aug 15 2020, 01:31:08) \n[Clang 6.0 (clang-600.0.57)]"
  },
  "orig_nbformat": 4,
  "vscode": {
   "interpreter": {
    "hash": "9e5532c3338948ef3923f84fcb49a3fec3185e68b18b7cb85088cd68c49cbe22"
   }
  }
 },
 "nbformat": 4,
 "nbformat_minor": 2
}
