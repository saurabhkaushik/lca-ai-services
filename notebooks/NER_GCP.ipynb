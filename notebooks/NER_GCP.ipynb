{
 "cells": [
  {
   "cell_type": "code",
   "execution_count": null,
   "metadata": {},
   "outputs": [],
   "source": [
    "from google.cloud import language_v1\n",
    "import os\n",
    "\n",
    "os.environ['GOOGLE_APPLICATION_CREDENTIALS'] = './store/genuine-wording-key.json'\n",
    "\n",
    "def sample_analyze_entities(gcs_content_uri):\n",
    "    client = language_v1.LanguageServiceClient()\n",
    "    type_ = language_v1.Document.Type.PLAIN_TEXT\n",
    "\n",
    "    language = \"en\"\n",
    "    document = {\"gcs_content_uri\": gcs_content_uri, \"type_\": type_, \"language\": language}\n",
    "\n",
    "    # Available values: NONE, UTF8, UTF16, UTF32\n",
    "    encoding_type = language_v1.EncodingType.UTF8\n",
    "\n",
    "    response = client.analyze_entities(request = {'document': document, 'encoding_type': encoding_type})\n",
    "    # Loop through entitites returned from the API\n",
    "    for entity in response.entities:\n",
    "        if language_v1.Entity.Type(entity.type_).name == 'OTHER': \n",
    "            print(u\"Entity Name : {}\".format(entity.name))\n",
    "\n",
    "gcs_content_uri = 'gs://lca_storage/seed_data4.txt'\n",
    "sample_analyze_entities(gcs_content_uri)"
   ]
  },
  {
   "cell_type": "code",
   "execution_count": null,
   "metadata": {},
   "outputs": [],
   "source": [
    "import pandas as pd\n",
    "import nltk\n",
    "import spacy\n",
    "from tqdm import tqdm\n",
    "\n",
    "seed_file ='./cuad-data/seed_data copy.csv'\n",
    "nlp = spacy.load(\"en_core_web_sm\")\n",
    "\n",
    "def create_tokens(dataframe):\n",
    "    tokens = []\n",
    "    for doc in tqdm(nlp.pipe(dataframe)):        \n",
    "        if doc.is_parsed:\n",
    "            tokens.append([n.lemma_.lower() for n in doc if (not n.is_punct and not n.is_space and not n.is_stop)])\n",
    "        else:\n",
    "            tokens.append(\"\")\n",
    "    return tokens\n",
    "\n",
    "raw = pd.read_csv(seed_file)\n",
    "question_tokens = create_tokens(raw['Statements'])\n",
    "\n",
    "''' print (raw['Statements'])\n",
    "for rwo in raw['Statements']: \n",
    "    question_tokens = create_tokens(raw['Statements'])\n",
    "    '''"
   ]
  },
  {
   "cell_type": "code",
   "execution_count": null,
   "metadata": {},
   "outputs": [],
   "source": [
    "import textacy\n",
    "import textacy\n",
    "\n",
    "text = \" \".join(raw.tolist())\n",
    "nlp = spacy.load('en_core_web_sm')\n",
    "nlp.max_length = len(text)\n",
    "keywords = []\n",
    "\n",
    "for tokenlist in tqdm(question_tokens):\n",
    "    doc = nlp(\" \".join(tokenlist))\n",
    "    extract = textacy.ke.sgrank(doc, ngrams=(1), window_size=2, normalize=None, topn = 2, include_pos=['NOUN', 'PROPN'])\n",
    "    for a, b in extract:\n",
    "        keywords.append(a)\n",
    "\n",
    "res = sorted(set(keywords), key = lambda x: keywords.count(x), reverse=True)\n"
   ]
  },
  {
   "cell_type": "code",
   "execution_count": null,
   "metadata": {},
   "outputs": [],
   "source": []
  }
 ],
 "metadata": {
  "kernelspec": {
   "display_name": "Python 3.7.9 ('env': venv)",
   "language": "python",
   "name": "python3"
  },
  "language_info": {
   "codemirror_mode": {
    "name": "ipython",
    "version": 3
   },
   "file_extension": ".py",
   "mimetype": "text/x-python",
   "name": "python",
   "nbconvert_exporter": "python",
   "pygments_lexer": "ipython3",
   "version": "3.7.9"
  },
  "orig_nbformat": 4,
  "vscode": {
   "interpreter": {
    "hash": "9e5532c3338948ef3923f84fcb49a3fec3185e68b18b7cb85088cd68c49cbe22"
   }
  }
 },
 "nbformat": 4,
 "nbformat_minor": 2
}
