{
 "cells": [
  {
   "cell_type": "code",
   "execution_count": 2,
   "metadata": {},
   "outputs": [
    {
     "name": "stdout",
     "output_type": "stream",
     "text": [
      "Started job: code_sample_7383d5aa-450c-4974-9c64-b829ce7d773f\n",
      "Job code_sample_7383d5aa-450c-4974-9c64-b829ce7d773f is currently in state RUNNING\n"
     ]
    },
    {
     "ename": "KeyboardInterrupt",
     "evalue": "",
     "output_type": "error",
     "traceback": [
      "\u001b[0;31m---------------------------------------------------------------------------\u001b[0m",
      "\u001b[0;31mKeyboardInterrupt\u001b[0m                         Traceback (most recent call last)",
      "\u001b[0;32m/var/folders/8j/vv0tvcpd46bc13kgm3nd2zsw0000gn/T/ipykernel_68323/2183893526.py\u001b[0m in \u001b[0;36m<module>\u001b[0;34m\u001b[0m\n\u001b[1;32m     20\u001b[0m     \u001b[0;32mbreak\u001b[0m\u001b[0;34m\u001b[0m\u001b[0;34m\u001b[0m\u001b[0m\n\u001b[1;32m     21\u001b[0m   \u001b[0mprint\u001b[0m\u001b[0;34m(\u001b[0m \u001b[0;34m\"Job {} is currently in state {}\"\u001b[0m\u001b[0;34m.\u001b[0m\u001b[0mformat\u001b[0m\u001b[0;34m(\u001b[0m \u001b[0mquery_job\u001b[0m\u001b[0;34m.\u001b[0m\u001b[0mjob_id\u001b[0m\u001b[0;34m,\u001b[0m \u001b[0mquery_job\u001b[0m\u001b[0;34m.\u001b[0m\u001b[0mstate\u001b[0m \u001b[0;34m)\u001b[0m \u001b[0;34m)\u001b[0m\u001b[0;34m\u001b[0m\u001b[0;34m\u001b[0m\u001b[0m\n\u001b[0;32m---> 22\u001b[0;31m   \u001b[0mtime\u001b[0m\u001b[0;34m.\u001b[0m\u001b[0msleep\u001b[0m\u001b[0;34m(\u001b[0m \u001b[0;36m5\u001b[0m \u001b[0;34m)\u001b[0m\u001b[0;34m\u001b[0m\u001b[0;34m\u001b[0m\u001b[0m\n\u001b[0m\u001b[1;32m     23\u001b[0m \u001b[0mprint\u001b[0m\u001b[0;34m(\u001b[0m\u001b[0mquery_job\u001b[0m\u001b[0;34m.\u001b[0m\u001b[0mstate\u001b[0m\u001b[0;34m)\u001b[0m\u001b[0;34m\u001b[0m\u001b[0;34m\u001b[0m\u001b[0m\n",
      "\u001b[0;31mKeyboardInterrupt\u001b[0m: "
     ]
    }
   ],
   "source": [
    "from google.cloud import bigquery\n",
    "import os, time\n",
    "\n",
    "os.environ['GOOGLE_APPLICATION_CREDENTIALS'] = './store/genuine-wording-key.json'\n",
    "\n",
    "# Construct a BigQuery client object.\n",
    "client = bigquery.Client()\n",
    "\n",
    "query_job = client.query(\n",
    "    \"Update genuine-wording-362504.lca_db.training_data set eval_label = \\'2ddd32\\' where id = \\'a3d23a11-dd82-4454-adc1-aefca734c8c9\\';\" + \\\n",
    "        \"Update genuine-wording-362504.lca_db.training_data set eval_label = \\'dcdcd\\' where id = \\'2132a480-2e1b-434c-85bd-9956a6e4f9da\\';\" ,\n",
    "    job_id_prefix=\"code_sample_\",\n",
    ")  # Make an API request.\n",
    "\n",
    "print(\"Started job: {}\".format(query_job.job_id))\n",
    "\n",
    "while True:\n",
    "  query_job = client.get_job(query_job.job_id )  # API request - fetches job\n",
    "  if query_job.state != \"RUNNING\":\n",
    "    break\n",
    "  print( \"Job {} is currently in state {}\".format( query_job.job_id, query_job.state ) )\n",
    "  time.sleep( 5 )\n",
    "print(query_job.state)"
   ]
  },
  {
   "cell_type": "code",
   "execution_count": 3,
   "metadata": {},
   "outputs": [
    {
     "name": "stdout",
     "output_type": "stream",
     "text": [
      "US:989dd5a5-008e-4b12-bda5-a85a1cceae99\n",
      "Type: query\n",
      "State: DONE\n",
      "Created: 2022-11-14T05:44:10.277000+00:00\n"
     ]
    }
   ],
   "source": [
    "from google.cloud import bigquery\n",
    "import os, time\n",
    "\n",
    "os.environ['GOOGLE_APPLICATION_CREDENTIALS'] = './store/genuine-wording-key.json'\n",
    "\n",
    "# Construct a BigQuery client object.\n",
    "client = bigquery.Client()\n",
    "\n",
    "job_id = '989dd5a5-008e-4b12-bda5-a85a1cceae99'\n",
    "job = client.get_job(job_id, location='US')\n",
    "\n",
    "print(f\"{job.location}:{job.job_id}\")\n",
    "print(f\"Type: {job.job_type}\")\n",
    "print(f\"State: {job.state}\")\n",
    "print(f\"Created: {job.created.isoformat()}\")"
   ]
  }
 ],
 "metadata": {
  "kernelspec": {
   "display_name": "Python 3.7.9 ('env': venv)",
   "language": "python",
   "name": "python3"
  },
  "language_info": {
   "codemirror_mode": {
    "name": "ipython",
    "version": 3
   },
   "file_extension": ".py",
   "mimetype": "text/x-python",
   "name": "python",
   "nbconvert_exporter": "python",
   "pygments_lexer": "ipython3",
   "version": "3.7.9"
  },
  "orig_nbformat": 4,
  "vscode": {
   "interpreter": {
    "hash": "9e5532c3338948ef3923f84fcb49a3fec3185e68b18b7cb85088cd68c49cbe22"
   }
  }
 },
 "nbformat": 4,
 "nbformat_minor": 2
}
