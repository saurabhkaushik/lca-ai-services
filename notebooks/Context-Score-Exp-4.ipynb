{
 "cells": [
  {
   "cell_type": "code",
   "execution_count": 3,
   "metadata": {},
   "outputs": [],
   "source": [
    "text = 'I had a really horrible day. It was the worst day ever! But every now and then I have a really good day that makes me happy.'\n",
    "text_list1 = [\"Cash and cash equivalents and current Marketable securities, and $378 million in Prepaid expenses and other current assets.\", \"The company has recieved $417 million for the payment of interest. \"]\n",
    "text_list3 = ['This loan debt is increasing my financial burden.', 'This loan debt is decreasing my financial burden.']\n",
    "text_list4 = ['Cash and cash equivalents and current Marketable securities, and $378 million in Prepaid expenses and other current assets.', \n",
    "    'Nick has high warranty liability, but he has does not high wealth.', 'Nick has low warranty liability.', 'Nick dont have warranty liability.', 'Nick has warranty liability.','She does not like Steve Jobs but likes Apple products.',\n",
    "    'He does not like Adolf Hitler but likes German products.', 'There is no English language option.', 'I had very high short term loans.']\n"
   ]
  },
  {
   "cell_type": "code",
   "execution_count": 4,
   "metadata": {},
   "outputs": [],
   "source": [
    "from app.common.MySQLUtility import MySQLUtility\n",
    "import os \n",
    "\n",
    "domains = ['esg', 'liabilities' ] #'liabilities', 'esg'\n",
    "os.environ['GOOGLE_APPLICATION_CREDENTIALS'] = './store/genuine-wording-key.json'\n",
    "\n",
    "DB_HOST = '34.170.168.203'\n",
    "DB_USER = 'root'\n",
    "DB_PASSWORD = 'nu123456'\n",
    "DB_NAME = 'lca_db'\n",
    "\n",
    "dbutil = MySQLUtility(DB_HOST, DB_USER, DB_PASSWORD, DB_NAME)\n"
   ]
  },
  {
   "cell_type": "code",
   "execution_count": 5,
   "metadata": {},
   "outputs": [
    {
     "name": "stdout",
     "output_type": "stream",
     "text": [
      "[{'name': 'loan debt', 'score': 0, 'count': 0, 'polarity': 0}, {'name': 'liability', 'score': -384.1829240322113, 'count': 4, 'polarity': -96.04573100805283}, {'name': 'short term loan', 'score': -98.54609370231628, 'count': 1, 'polarity': -98.54609370231628}, {'name': 'expense', 'score': -86.26590371131897, 'count': 1, 'polarity': -86.26590371131897}, {'name': 'asset', 'score': -86.26590371131897, 'count': 1, 'polarity': -86.26590371131897}]\n"
     ]
    }
   ],
   "source": [
    "from app.TextRank_Extractor import TextRank_Extractor\n",
    "from app.Risk_Score_Service import Risk_Score_Service\n",
    "from app.PreProcessText import PreProcessText\n",
    "\n",
    "rr = Risk_Score_Service(dbutil)\n",
    "pp = PreProcessText()\n",
    "keywords = ['loan debt', 'liability', 'short term loan', 'expense', 'asset']\n",
    "\n",
    "keywords = rr.get_keywords('esg')\n",
    "key_polarity = []\n",
    "\n",
    "for kwrd in keywords: \n",
    "    key_scr = {}\n",
    "    key_scr['name'] = str(kwrd)\n",
    "    key_scr['score'] = 0\n",
    "    key_scr['count'] = 0\n",
    "    key_scr['polarity'] = 0\n",
    "    key_polarity.append(key_scr)\n",
    "\n",
    "for text in text_list4:\n",
    "    text_lem = pp.get_lemmantizer(text)\n",
    "    for key_dic in key_polarity:\n",
    "        if key_dic['name'] in text_lem:\n",
    "                key_dic['score'] += rr.get_sentiment_score(text)\n",
    "                key_dic['count'] += 1\n",
    "\n",
    "for key_dic in key_polarity:\n",
    "    if not key_dic['count'] == 0:\n",
    "        key_dic['polarity'] = (key_dic['score']) / key_dic['count']\n",
    "\n",
    "print (key_polarity)\n",
    "\n"
   ]
  },
  {
   "cell_type": "code",
   "execution_count": 8,
   "metadata": {},
   "outputs": [
    {
     "name": "stdout",
     "output_type": "stream",
     "text": [
      "Cash and cash equivalents and current Marketable securities, and $378 million in Prepaid expenses and other current assets.\n",
      "86.26590371131897\n",
      "Nick has high warranty liability, but he has does not high wealth.\n",
      "-99.78210926055908\n",
      "Nick has low warranty liability.\n",
      "-99.80202913284302\n",
      "Nick dont have warranty liability.\n",
      "-84.78177189826965\n",
      "Nick has warranty liability.\n",
      "-99.81701374053955\n",
      "She does not like Steve Jobs but likes Apple products.\n",
      "98.87738227844238\n",
      "He does not like Adolf Hitler but likes German products.\n",
      "99.23375248908997\n",
      "There is no English language option.\n",
      "-99.95936751365662\n",
      "I had very high short term loans.\n",
      "-98.54609370231628\n"
     ]
    }
   ],
   "source": [
    "import spacy\n",
    "\n",
    "nlp = spacy.load('en_core_web_md')\n",
    "\n",
    "for text in text_list4:    \n",
    "    text_lem = pp.get_lemmantizer(text)\n",
    "    context_score = 0\n",
    "    sem_score = rr.get_sentiment_score(text)\n",
    "    for key_dic in key_polarity:\n",
    "        if key_dic['name'] in text_lem:            \n",
    "            pol_score = key_dic['polarity']\n",
    "            if sem_score < 0:\n",
    "                context_score = -key_dic['polarity']\n",
    "            else: \n",
    "                context_score = key_dic['polarity']\n",
    "        else: \n",
    "            context_score = rr.get_sentiment_score(text)\n",
    "    print (text)\n",
    "    print (context_score)\n"
   ]
  },
  {
   "cell_type": "code",
   "execution_count": 7,
   "metadata": {},
   "outputs": [
    {
     "name": "stdout",
     "output_type": "stream",
     "text": [
      "Cash and cash equivalents and current Marketable securities, and $378 million in Prepaid expenses and other current assets.\n",
      "100.0\n",
      "Nick has high warranty liability, but he has does not high wealth.\n",
      "100.0\n",
      "Nick has low warranty liability.\n",
      "100.0\n",
      "Nick dont have warranty liability.\n",
      "100.0\n",
      "Nick has warranty liability.\n",
      "100.0\n",
      "She does not like Steve Jobs but likes Apple products.\n",
      "100.0\n",
      "He does not like Adolf Hitler but likes German products.\n",
      "100.0\n",
      "There is no English language option.\n",
      "100.0\n",
      "I had very high short term loans.\n",
      "100.0\n"
     ]
    }
   ],
   "source": [
    "for text in text_list4:  \n",
    "    print (text) \n",
    "    print (rr.get_semantic_score(text)) \n",
    "    "
   ]
  }
 ],
 "metadata": {
  "kernelspec": {
   "display_name": "Python 3.7.9 ('env': venv)",
   "language": "python",
   "name": "python3"
  },
  "language_info": {
   "codemirror_mode": {
    "name": "ipython",
    "version": 3
   },
   "file_extension": ".py",
   "mimetype": "text/x-python",
   "name": "python",
   "nbconvert_exporter": "python",
   "pygments_lexer": "ipython3",
   "version": "3.7.9"
  },
  "orig_nbformat": 4,
  "vscode": {
   "interpreter": {
    "hash": "9e5532c3338948ef3923f84fcb49a3fec3185e68b18b7cb85088cd68c49cbe22"
   }
  }
 },
 "nbformat": 4,
 "nbformat_minor": 2
}
