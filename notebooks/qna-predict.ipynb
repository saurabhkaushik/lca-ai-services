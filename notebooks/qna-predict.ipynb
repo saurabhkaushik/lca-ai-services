{
 "cells": [
  {
   "cell_type": "code",
   "execution_count": 1,
   "metadata": {},
   "outputs": [
    {
     "name": "stderr",
     "output_type": "stream",
     "text": [
      "/Users/saurabhkaushik/Workspace/lca-ai-services/env/lib/python3.7/site-packages/tqdm/auto.py:22: TqdmWarning: IProgress not found. Please update jupyter and ipywidgets. See https://ipywidgets.readthedocs.io/en/stable/user_install.html\n",
      "  from .autonotebook import tqdm as notebook_tqdm\n",
      "2022-09-28 13:33:40.070810: I tensorflow/core/platform/cpu_feature_guard.cc:193] This TensorFlow binary is optimized with oneAPI Deep Neural Network Library (oneDNN) to use the following CPU instructions in performance-critical operations:  AVX2 AVX512F AVX512_VNNI FMA\n",
      "To enable them in other operations, rebuild TensorFlow with the appropriate compiler flags.\n"
     ]
    }
   ],
   "source": [
    "from transformers import AutoTokenizer, pipeline\n",
    "from transformers import (\n",
    "    AutoConfig,\n",
    "    AutoModelForQuestionAnswering,\n",
    "    AutoTokenizer\n",
    ")\n",
    "import json\n",
    "\n",
    "model_path = 'cuad-models/roberta-base/'\n",
    "question = \"NULL\"\n",
    "\n",
    "def prep_data():\n",
    "    with open('./cuad-data/CUADv12.json') as json_file:\n",
    "        data = json.load(json_file)\n",
    "    questions = []\n",
    "    for i, q in enumerate(data['data'][0]['paragraphs'][0]['qas']):\n",
    "        question = data['data'][0]['paragraphs'][0]['qas'][i]['question']\n",
    "        questions.append(question)\n",
    "    contract = data['data'][0]['paragraphs'][0]['context']\n",
    "    return questions, contract\n",
    "\n",
    "def initialise(): \n",
    "    config_class, model_class, tokenizer_class = (\n",
    "        AutoConfig, AutoModelForQuestionAnswering, AutoTokenizer)\n",
    "    config = config_class.from_pretrained(model_path)\n",
    "    tokenizer = tokenizer_class.from_pretrained(\n",
    "        model_path, do_lower_case=True, use_fast=False)\n",
    "    model = model_class.from_pretrained(model_path, config=config)\n",
    "\n",
    "    tokenizer.encode(question, truncation=True, padding=True)\n",
    "\n",
    "    nlp = pipeline('question-answering', model=model, tokenizer=tokenizer)\n",
    "    return tokenizer, nlp\n",
    "\n",
    "def predict(question, contract, tokenizer, nlp):\n",
    "    tokenizer.encode(question, truncation=True, padding=True)\n",
    "\n",
    "    answerResp = nlp({\n",
    "        'question' : question, \n",
    "        'context': contract \n",
    "    })\n",
    "\n",
    "    return answerResp['answer']\n"
   ]
  },
  {
   "cell_type": "code",
   "execution_count": 2,
   "metadata": {},
   "outputs": [
    {
     "name": "stdout",
     "output_type": "stream",
     "text": [
      "contract :  contract\n",
      "question :  question\n"
     ]
    }
   ],
   "source": [
    "contract = \"contract\"\n",
    "question = \"question\"\n",
    "tokenizer, nlp = initialise()\n",
    "answer = predict(question, contract, tokenizer, nlp)\n",
    "answer"
   ]
  }
 ],
 "metadata": {
  "kernelspec": {
   "display_name": "Python 3.7.9 ('env': venv)",
   "language": "python",
   "name": "python3"
  },
  "language_info": {
   "codemirror_mode": {
    "name": "ipython",
    "version": 3
   },
   "file_extension": ".py",
   "mimetype": "text/x-python",
   "name": "python",
   "nbconvert_exporter": "python",
   "pygments_lexer": "ipython3",
   "version": "3.7.9"
  },
  "orig_nbformat": 4,
  "vscode": {
   "interpreter": {
    "hash": "9e5532c3338948ef3923f84fcb49a3fec3185e68b18b7cb85088cd68c49cbe22"
   }
  }
 },
 "nbformat": 4,
 "nbformat_minor": 2
}
