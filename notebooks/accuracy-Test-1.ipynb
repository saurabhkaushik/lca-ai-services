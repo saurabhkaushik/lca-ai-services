{
 "cells": [
  {
   "cell_type": "code",
   "execution_count": 1,
   "metadata": {},
   "outputs": [
    {
     "name": "stderr",
     "output_type": "stream",
     "text": [
      "/Users/saurabhkaushik/Workspace/lca-ai-services/env/lib/python3.7/site-packages/tqdm/auto.py:22: TqdmWarning: IProgress not found. Please update jupyter and ipywidgets. See https://ipywidgets.readthedocs.io/en/stable/user_install.html\n",
      "  from .autonotebook import tqdm as notebook_tqdm\n"
     ]
    }
   ],
   "source": [
    "from app.Transformer_Classifier import Transformer_Classifier \n",
    "\n",
    "from app.Data_Loader import Data_Loader\n",
    "from app.TextRank_Extractor import TextRank_Extractor\n",
    "from app.Keyword_Classifier import Keyword_Classifier\n",
    "from app.common.MySQLUtility import MySQLUtility\n",
    "import os \n",
    "from app.Risk_Score_Service import Risk_Score_Service\n",
    "\n",
    "domains = ['esg', 'liabilities' ] #'liabilities', 'esg'\n",
    "os.environ['GOOGLE_APPLICATION_CREDENTIALS'] = './config/gcp/genuine-wording-key.json'\n",
    "\n",
    "DB_HOST = '34.170.168.203'\n",
    "DB_USER = 'root'\n",
    "DB_PASSWORD = 'nu123456'\n",
    "DB_NAME = 'lca_dev'\n",
    "mode = 'accuracy'\n"
   ]
  }
 ],
 "metadata": {
  "kernelspec": {
   "display_name": "Python 3.7.9 ('env': venv)",
   "language": "python",
   "name": "python3"
  },
  "language_info": {
   "codemirror_mode": {
    "name": "ipython",
    "version": 3
   },
   "file_extension": ".py",
   "mimetype": "text/x-python",
   "name": "python",
   "nbconvert_exporter": "python",
   "pygments_lexer": "ipython3",
   "version": "3.7.9"
  },
  "orig_nbformat": 4,
  "vscode": {
   "interpreter": {
    "hash": "9e5532c3338948ef3923f84fcb49a3fec3185e68b18b7cb85088cd68c49cbe22"
   }
  }
 },
 "nbformat": 4,
 "nbformat_minor": 2
}
