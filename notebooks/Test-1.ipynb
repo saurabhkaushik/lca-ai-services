{
 "cells": [
  {
   "cell_type": "code",
   "execution_count": 1,
   "metadata": {},
   "outputs": [
    {
     "name": "stderr",
     "output_type": "stream",
     "text": [
      "/Users/saurabhkaushik/Workspace/lca-ai-services/env/lib/python3.7/site-packages/tqdm/auto.py:22: TqdmWarning: IProgress not found. Please update jupyter and ipywidgets. See https://ipywidgets.readthedocs.io/en/stable/user_install.html\n",
      "  from .autonotebook import tqdm as notebook_tqdm\n",
      "2022-10-20 16:16:58.879871: I tensorflow/core/platform/cpu_feature_guard.cc:193] This TensorFlow binary is optimized with oneAPI Deep Neural Network Library (oneDNN) to use the following CPU instructions in performance-critical operations:  AVX2 AVX512F AVX512_VNNI FMA\n",
      "To enable them in other operations, rebuild TensorFlow with the appropriate compiler flags.\n"
     ]
    },
    {
     "name": "stdout",
     "output_type": "stream",
     "text": [
      "Verbs: ['save']\n"
     ]
    }
   ],
   "source": [
    "import app.highlight_service as highlight_service\n",
    "\n",
    "contract = \"I have liability of 100 rupee. I will save my money.\"\n",
    "\n",
    "terms2 = highlight_service.extract_verbs(contract)\n",
    "terms2 = highlight_service.save_terms(terms2)"
   ]
  },
  {
   "cell_type": "code",
   "execution_count": 2,
   "metadata": {},
   "outputs": [],
   "source": [
    "import app.highlight_service as highlight_service\n",
    "\n",
    "terms2 = [\"Saurabh\", \"Test2\"]\n",
    "terms2 = highlight_service.save_terms(terms2)"
   ]
  },
  {
   "cell_type": "code",
   "execution_count": 3,
   "metadata": {},
   "outputs": [
    {
     "name": "stdout",
     "output_type": "stream",
     "text": [
      "Contract: \n",
      "\" Broadcasting, Licensing and Wireless are referred to collectively herein as the \"Buyers.\" Liability are very high. Subject to the terms and conditions of this Agreement, the Buyers hereby agree to purchase substantially all of the assets (and assume certain of the liabilities) of the Seller that are used or useful in the operation of radio stations KNRQ-FM (licensed to Creswel, Oregon), and KNRQ-AM and KZEL-FM (licensed to Eugene, Oregon) (the \"Stations\") in return for cash. Now, therefore, in consideration of the above premises and the mutual promises herein made, and in consideration of the representations, warranties, and covenants herein contained, the Parties agree as follows. Business is showing in low legal compliance. On and subject to the terms and conditions of this Agreement, the Seller agrees to sell, transfer, convey and deliver to (i) Licensing, and Licensing agrees to purchase from the Seller, all of the FCC Licenses listed in Section 2(k) of the disclosure schedule (\"Disclosure Schedule\"). \" \n",
      "\n",
      "Catch Words:  ['liability', 'contract', 'saurabh', 'compliance', 'have', 'save', 'legal', 'test2'] \n",
      "\n",
      ">>>> Searching Word: \" liability \"\n",
      ">>>> Words Similar to \"liability\" not found.\n",
      ">>>>  Similar Words 2: \" []\n",
      ">>>> Searching Word: \" contract \"\n",
      ">>>> Words Similar to \"contract\" not found.\n",
      ">>>>  Similar Words 2: \" []\n",
      ">>>> Searching Word: \" saurabh \"\n",
      ">>>> Words Similar to \"saurabh\" not found.\n",
      ">>>>  Similar Words 2: \" []\n",
      ">>>> Searching Word: \" compliance \"\n",
      ">>>>  Similar Words 1: \" [('mutual', 0.24072635173797607), ('transfer', 0.23669521510601044), ('conditions', 0.1723775863647461), ('agree', 0.1353851854801178), ('return', 0.13216985762119293), ('sell', 0.12426772713661194), ('Liability', 0.12352950125932693), ('promises', 0.12283116579055786), ('agrees', 0.11040420085191727), ('Section', 0.09427540004253387)]\n",
      ">>>>  Similar Words 2: \" [('mutual', 0.24072635173797607), ('transfer', 0.23669521510601044), ('conditions', 0.1723775863647461), ('agree', 0.1353851854801178), ('return', 0.13216985762119293), ('sell', 0.12426772713661194), ('Liability', 0.12352950125932693), ('promises', 0.12283116579055786), ('agrees', 0.11040420085191727), ('Section', 0.09427540004253387)]\n",
      ">>>> Searching Word: \" have \"\n",
      ">>>> Words Similar to \"have\" not found.\n",
      ">>>>  Similar Words 2: \" [('mutual', 0.24072635173797607), ('transfer', 0.23669521510601044), ('conditions', 0.1723775863647461), ('agree', 0.1353851854801178), ('return', 0.13216985762119293), ('sell', 0.12426772713661194), ('Liability', 0.12352950125932693), ('promises', 0.12283116579055786), ('agrees', 0.11040420085191727), ('Section', 0.09427540004253387)]\n",
      ">>>> Searching Word: \" save \"\n",
      ">>>> Words Similar to \"save\" not found.\n",
      ">>>>  Similar Words 2: \" [('mutual', 0.24072635173797607), ('transfer', 0.23669521510601044), ('conditions', 0.1723775863647461), ('agree', 0.1353851854801178), ('return', 0.13216985762119293), ('sell', 0.12426772713661194), ('Liability', 0.12352950125932693), ('promises', 0.12283116579055786), ('agrees', 0.11040420085191727), ('Section', 0.09427540004253387)]\n",
      ">>>> Searching Word: \" legal \"\n",
      ">>>>  Similar Words 1: \" [('premises', 0.25053080916404724), ('Section', 0.13816116750240326), ('showing', 0.10854673385620117), ('listed', 0.10719044506549835), ('return', 0.10195422172546387), ('purchase', 0.09799879789352417), ('agree', 0.09110383689403534), ('subject', 0.0824434831738472), ('Business', 0.0756363496184349), ('stations', 0.0698980912566185)]\n",
      ">>>>  Similar Words 2: \" [('premises', 0.25053080916404724), ('Section', 0.13816116750240326), ('showing', 0.10854673385620117), ('listed', 0.10719044506549835), ('return', 0.10195422172546387), ('purchase', 0.09799879789352417), ('agree', 0.09110383689403534), ('subject', 0.0824434831738472), ('Business', 0.0756363496184349), ('stations', 0.0698980912566185)]\n",
      ">>>> Searching Word: \" test2 \"\n",
      ">>>> Words Similar to \"test2\" not found.\n",
      ">>>>  Similar Words 2: \" [('premises', 0.25053080916404724), ('Section', 0.13816116750240326), ('showing', 0.10854673385620117), ('listed', 0.10719044506549835), ('return', 0.10195422172546387), ('purchase', 0.09799879789352417), ('agree', 0.09110383689403534), ('subject', 0.0824434831738472), ('Business', 0.0756363496184349), ('stations', 0.0698980912566185)]\n"
     ]
    }
   ],
   "source": [
    "import app.highlight_service as highlight_service\n",
    "\n",
    "article_text = highlight_service.load_data()\n",
    "answer_results = highlight_service.generate_training_corpus(article_text)\n"
   ]
  },
  {
   "cell_type": "code",
   "execution_count": 4,
   "metadata": {},
   "outputs": [
    {
     "name": "stderr",
     "output_type": "stream",
     "text": [
      "Some weights of the model checkpoint at distilbert-base-uncased were not used when initializing DistilBertForSequenceClassification: ['vocab_layer_norm.bias', 'vocab_transform.weight', 'vocab_projector.bias', 'vocab_transform.bias', 'vocab_projector.weight', 'vocab_layer_norm.weight']\n",
      "- This IS expected if you are initializing DistilBertForSequenceClassification from the checkpoint of a model trained on another task or with another architecture (e.g. initializing a BertForSequenceClassification model from a BertForPreTraining model).\n",
      "- This IS NOT expected if you are initializing DistilBertForSequenceClassification from the checkpoint of a model that you expect to be exactly identical (initializing a BertForSequenceClassification model from a BertForSequenceClassification model).\n",
      "Some weights of DistilBertForSequenceClassification were not initialized from the model checkpoint at distilbert-base-uncased and are newly initialized: ['classifier.weight', 'classifier.bias', 'pre_classifier.weight', 'pre_classifier.bias']\n",
      "You should probably TRAIN this model on a down-stream task to be able to use it for predictions and inference.\n",
      "The following columns in the training set don't have a corresponding argument in `DistilBertForSequenceClassification.forward` and have been ignored: text, __index_level_0__. If text, __index_level_0__ are not expected by `DistilBertForSequenceClassification.forward`,  you can safely ignore this message.\n",
      "/Users/saurabhkaushik/Workspace/lca-ai-services/env/lib/python3.7/site-packages/transformers/optimization.py:310: FutureWarning: This implementation of AdamW is deprecated and will be removed in a future version. Use the PyTorch implementation torch.optim.AdamW instead, or set `no_deprecation_warning=True` to disable this warning\n",
      "  FutureWarning,\n",
      "***** Running training *****\n",
      "  Num examples = 40\n",
      "  Num Epochs = 3\n",
      "  Instantaneous batch size per device = 8\n",
      "  Total train batch size (w. parallel, distributed & accumulation) = 8\n",
      "  Gradient Accumulation steps = 1\n",
      "  Total optimization steps = 15\n",
      "  0%|          | 0/15 [00:00<?, ?it/s]You're using a DistilBertTokenizerFast tokenizer. Please note that with a fast tokenizer, using the `__call__` method is faster than using a method to encode the text followed by a call to the `pad` method to get a padded encoding.\n",
      " 33%|███▎      | 5/15 [00:08<00:16,  1.61s/it]The following columns in the evaluation set don't have a corresponding argument in `DistilBertForSequenceClassification.forward` and have been ignored: text, __index_level_0__. If text, __index_level_0__ are not expected by `DistilBertForSequenceClassification.forward`,  you can safely ignore this message.\n",
      "***** Running Evaluation *****\n",
      "  Num examples = 10\n",
      "  Batch size = 8\n",
      "                                              \n",
      " 33%|███▎      | 5/15 [00:09<00:16,  1.61s/it]"
     ]
    },
    {
     "name": "stdout",
     "output_type": "stream",
     "text": [
      "{'eval_loss': 2.8106136322021484, 'eval_runtime': 0.5762, 'eval_samples_per_second': 17.355, 'eval_steps_per_second': 3.471, 'epoch': 1.0}\n"
     ]
    },
    {
     "name": "stderr",
     "output_type": "stream",
     "text": [
      " 67%|██████▋   | 10/15 [00:16<00:07,  1.50s/it]The following columns in the evaluation set don't have a corresponding argument in `DistilBertForSequenceClassification.forward` and have been ignored: text, __index_level_0__. If text, __index_level_0__ are not expected by `DistilBertForSequenceClassification.forward`,  you can safely ignore this message.\n",
      "***** Running Evaluation *****\n",
      "  Num examples = 10\n",
      "  Batch size = 8\n",
      "                                               \n",
      " 67%|██████▋   | 10/15 [00:17<00:07,  1.50s/it]"
     ]
    },
    {
     "name": "stdout",
     "output_type": "stream",
     "text": [
      "{'eval_loss': 2.7722575664520264, 'eval_runtime': 0.6035, 'eval_samples_per_second': 16.569, 'eval_steps_per_second': 3.314, 'epoch': 2.0}\n"
     ]
    },
    {
     "name": "stderr",
     "output_type": "stream",
     "text": [
      "100%|██████████| 15/15 [00:24<00:00,  1.45s/it]The following columns in the evaluation set don't have a corresponding argument in `DistilBertForSequenceClassification.forward` and have been ignored: text, __index_level_0__. If text, __index_level_0__ are not expected by `DistilBertForSequenceClassification.forward`,  you can safely ignore this message.\n",
      "***** Running Evaluation *****\n",
      "  Num examples = 10\n",
      "  Batch size = 8\n",
      "                                               \n",
      "100%|██████████| 15/15 [00:24<00:00,  1.45s/it]\n",
      "\n",
      "Training completed. Do not forget to share your model on huggingface.co/models =)\n",
      "\n",
      "\n",
      "100%|██████████| 15/15 [00:24<00:00,  1.64s/it]\n",
      "The following columns in the evaluation set don't have a corresponding argument in `DistilBertForSequenceClassification.forward` and have been ignored: text, __index_level_0__. If text, __index_level_0__ are not expected by `DistilBertForSequenceClassification.forward`,  you can safely ignore this message.\n",
      "***** Running Evaluation *****\n",
      "  Num examples = 10\n",
      "  Batch size = 8\n"
     ]
    },
    {
     "name": "stdout",
     "output_type": "stream",
     "text": [
      "{'eval_loss': 2.7514538764953613, 'eval_runtime': 0.5402, 'eval_samples_per_second': 18.511, 'eval_steps_per_second': 3.702, 'epoch': 3.0}\n",
      "{'train_runtime': 24.6477, 'train_samples_per_second': 4.869, 'train_steps_per_second': 0.609, 'train_loss': 2.679219055175781, 'epoch': 3.0}\n"
     ]
    },
    {
     "name": "stderr",
     "output_type": "stream",
     "text": [
      "100%|██████████| 2/2 [00:00<00:00, 14.68it/s]\n",
      "Configuration saved in ./model/config.json\n",
      "Model weights saved in ./model/pytorch_model.bin\n"
     ]
    },
    {
     "name": "stdout",
     "output_type": "stream",
     "text": [
      "{'0-23': {'start_index': 0, 'end_index': 23, 'relevence': 6.74944743514061, 'relevence_degree': 'LOW'}, '24-78': {'start_index': 24, 'end_index': 78, 'relevence': 6.858115643262863, 'relevence_degree': 'LOW'}, '0-0': {'start_index': 0, 'end_index': 0, 'relevence': 6.725391000509262, 'relevence_degree': 'LOW'}}\n"
     ]
    }
   ],
   "source": [
    "import app.classify_service as classify_service\n",
    "\n",
    "train_hg, valid_hg = classify_service.prepare_train_valid_df()\n",
    "model = classify_service.training(train_hg, valid_hg) \n",
    "article_text = classify_service.load_data()\n",
    "\n",
    "contract = \"Liability are very high. Subject to the terms and conditions of this Agreement.\"\n",
    "\n",
    "answer_results = classify_service.process_paragraph(contract, model)\n",
    "answer_results = classify_service.highlight_ranking(answer_results)\n",
    "print (answer_results)\n"
   ]
  },
  {
   "cell_type": "code",
   "execution_count": null,
   "metadata": {},
   "outputs": [],
   "source": []
  }
 ],
 "metadata": {
  "kernelspec": {
   "display_name": "Python 3.7.9 ('env': venv)",
   "language": "python",
   "name": "python3"
  },
  "language_info": {
   "codemirror_mode": {
    "name": "ipython",
    "version": 3
   },
   "file_extension": ".py",
   "mimetype": "text/x-python",
   "name": "python",
   "nbconvert_exporter": "python",
   "pygments_lexer": "ipython3",
   "version": "3.7.9"
  },
  "orig_nbformat": 4,
  "vscode": {
   "interpreter": {
    "hash": "9e5532c3338948ef3923f84fcb49a3fec3185e68b18b7cb85088cd68c49cbe22"
   }
  }
 },
 "nbformat": 4,
 "nbformat_minor": 2
}
