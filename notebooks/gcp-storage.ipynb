{
 "cells": [
  {
   "cell_type": "code",
   "execution_count": 1,
   "metadata": {},
   "outputs": [],
   "source": [
    "#!pip3 install google-cloud-storage"
   ]
  },
  {
   "cell_type": "code",
   "execution_count": 2,
   "metadata": {},
   "outputs": [],
   "source": [
    "import os \n",
    "os.environ['GOOGLE_APPLICATION_CREDENTIALS'] = './store/genuine-wording-key.json'"
   ]
  },
  {
   "cell_type": "code",
   "execution_count": 4,
   "metadata": {},
   "outputs": [
    {
     "name": "stdout",
     "output_type": "stream",
     "text": [
      "[Errno 17] File exists: './model/liabilities/'\n",
      "[Errno 17] File exists: './model/esg/'\n",
      "lca_model esg/config.json ./model/esg/config.json\n",
      "Downloaded storage object esg/config.json from bucket lca_model to local file ./model/esg/config.json.\n",
      "lca_model esg/keyword_class.joblib ./model/esg/keyword_class.joblib\n",
      "Downloaded storage object esg/keyword_class.joblib from bucket lca_model to local file ./model/esg/keyword_class.joblib.\n",
      "lca_model esg/pytorch_model.bin ./model/esg/pytorch_model.bin\n",
      "Downloaded storage object esg/pytorch_model.bin from bucket lca_model to local file ./model/esg/pytorch_model.bin.\n",
      "lca_model liabilities/config.json ./model/liabilities/config.json\n",
      "Downloaded storage object liabilities/config.json from bucket lca_model to local file ./model/liabilities/config.json.\n",
      "lca_model liabilities/keyword_class.joblib ./model/liabilities/keyword_class.joblib\n",
      "Downloaded storage object liabilities/keyword_class.joblib from bucket lca_model to local file ./model/liabilities/keyword_class.joblib.\n",
      "lca_model liabilities/pytorch_model.bin ./model/liabilities/pytorch_model.bin\n",
      "Downloaded storage object liabilities/pytorch_model.bin from bucket lca_model to local file ./model/liabilities/pytorch_model.bin.\n"
     ]
    }
   ],
   "source": [
    "from app.GCP_Storage import GCP_Storage\n",
    "\n",
    "import os \n",
    "os.environ['GOOGLE_APPLICATION_CREDENTIALS'] = './store/genuine-wording-key.json'\n",
    "\n",
    "domains = ['liabilities', 'esg']\n",
    "loader = GCP_Storage(domains)\n",
    "\n",
    "#loader.setup_bucket()\n",
    "#loader.upload_models()\n",
    "loader.download_models()\n",
    "#loader.download_seed_data()"
   ]
  }
 ],
 "metadata": {
  "kernelspec": {
   "display_name": "Python 3.7.9 ('env': venv)",
   "language": "python",
   "name": "python3"
  },
  "language_info": {
   "codemirror_mode": {
    "name": "ipython",
    "version": 3
   },
   "file_extension": ".py",
   "mimetype": "text/x-python",
   "name": "python",
   "nbconvert_exporter": "python",
   "pygments_lexer": "ipython3",
   "version": "3.7.9"
  },
  "orig_nbformat": 4,
  "vscode": {
   "interpreter": {
    "hash": "9e5532c3338948ef3923f84fcb49a3fec3185e68b18b7cb85088cd68c49cbe22"
   }
  }
 },
 "nbformat": 4,
 "nbformat_minor": 2
}
