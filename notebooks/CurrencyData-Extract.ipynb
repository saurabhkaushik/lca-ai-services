{
 "cells": [
  {
   "cell_type": "code",
   "execution_count": 38,
   "metadata": {},
   "outputs": [],
   "source": [
    "str_m = ['$6 million', '$1.674 billion', '$2.739 billion', '$20 million' , '4.439 billion pound', '$4.481 billion', 'five billion dollor', '$96 million']"
   ]
  },
  {
   "cell_type": "code",
   "execution_count": 46,
   "metadata": {},
   "outputs": [
    {
     "name": "stdout",
     "output_type": "stream",
     "text": [
      "For $6  No valid number words found! Please enter a valid number word (eg. two million twenty three thousand and forty nine)\n",
      "word_to_num : $6 million >> $6 >>  None\n",
      "int : $6 million >> $6 >>  [6.0]\n",
      "word_to_num : $6 million >> million >>  1000000\n",
      "int : $6 million >> million >>  []\n",
      "For $1.674  No valid number words found! Please enter a valid number word (eg. two million twenty three thousand and forty nine)\n",
      "word_to_num : $1.674 billion >> $1.674 >>  None\n",
      "int : $1.674 billion >> $1.674 >>  [1.674]\n",
      "word_to_num : $1.674 billion >> billion >>  1000000000\n",
      "int : $1.674 billion >> billion >>  []\n",
      "For $2.739  No valid number words found! Please enter a valid number word (eg. two million twenty three thousand and forty nine)\n",
      "word_to_num : $2.739 billion >> $2.739 >>  None\n",
      "int : $2.739 billion >> $2.739 >>  [2.739]\n",
      "word_to_num : $2.739 billion >> billion >>  1000000000\n",
      "int : $2.739 billion >> billion >>  []\n",
      "For $20  No valid number words found! Please enter a valid number word (eg. two million twenty three thousand and forty nine)\n",
      "word_to_num : $20 million >> $20 >>  None\n",
      "int : $20 million >> $20 >>  [20.0]\n",
      "word_to_num : $20 million >> million >>  1000000\n",
      "int : $20 million >> million >>  []\n",
      "For 4.439  No valid number words found! Please enter a valid number word (eg. two million twenty three thousand and forty nine)\n",
      "word_to_num : 4.439 billion pound >> 4.439 >>  None\n",
      "int : 4.439 billion pound >> 4.439 >>  [4.439]\n",
      "word_to_num : 4.439 billion pound >> billion >>  1000000000\n",
      "int : 4.439 billion pound >> billion >>  []\n",
      "For pound  No valid number words found! Please enter a valid number word (eg. two million twenty three thousand and forty nine)\n",
      "word_to_num : 4.439 billion pound >> pound >>  None\n",
      "int : 4.439 billion pound >> pound >>  []\n",
      "For $4.481  No valid number words found! Please enter a valid number word (eg. two million twenty three thousand and forty nine)\n",
      "word_to_num : $4.481 billion >> $4.481 >>  None\n",
      "int : $4.481 billion >> $4.481 >>  [4.481]\n",
      "word_to_num : $4.481 billion >> billion >>  1000000000\n",
      "int : $4.481 billion >> billion >>  []\n",
      "word_to_num : five billion dollor >> five >>  5\n",
      "int : five billion dollor >> five >>  []\n",
      "word_to_num : five billion dollor >> billion >>  1000000000\n",
      "int : five billion dollor >> billion >>  []\n",
      "For dollor  No valid number words found! Please enter a valid number word (eg. two million twenty three thousand and forty nine)\n",
      "word_to_num : five billion dollor >> dollor >>  None\n",
      "int : five billion dollor >> dollor >>  []\n",
      "For $96  No valid number words found! Please enter a valid number word (eg. two million twenty three thousand and forty nine)\n",
      "word_to_num : $96 million >> $96 >>  None\n",
      "int : $96 million >> $96 >>  [96.0]\n",
      "word_to_num : $96 million >> million >>  1000000\n",
      "int : $96 million >> million >>  []\n"
     ]
    }
   ],
   "source": [
    "#!pip3 install word2number\n",
    "from word2number import w2n\n",
    "import re\n",
    "\n",
    "for test_str in str_m: \n",
    "    str_art = test_str.split()\n",
    "    for str2 in str_art:\n",
    "        res1 = None\n",
    "        res2 = None\n",
    "        try:\n",
    "            res1 = w2n.word_to_num(str2)\n",
    "        except Exception as e:\n",
    "            print ('For ' + str2 + ' ', e)\n",
    "        print('word_to_num : ' + test_str + \" >> \" + str2 + ' >> ', res1)   \n",
    "\n",
    "        temp = re.findall(r'-?\\d+\\.?\\d*', str2)\n",
    "        res2 = list(map(float, temp))\n",
    "        print('int : ' + test_str + \" >> \" + str2 + ' >> ', res2)  \n",
    "\n",
    "        \n",
    "    "
   ]
  },
  {
   "cell_type": "code",
   "execution_count": null,
   "metadata": {},
   "outputs": [],
   "source": [
    "import datefinder\n",
    "\n",
    "def date_finder(text):\n",
    "    matches = datefinder.find_dates(text)                \n",
    "    print (ent.text + '>>' + str(date_time_obj))\n",
    "    for match in matches:\n",
    "        print ('Match : ' + ent.text + '>>' + str(match))\n"
   ]
  }
 ],
 "metadata": {
  "kernelspec": {
   "display_name": "env",
   "language": "python",
   "name": "python3"
  },
  "language_info": {
   "codemirror_mode": {
    "name": "ipython",
    "version": 3
   },
   "file_extension": ".py",
   "mimetype": "text/x-python",
   "name": "python",
   "nbconvert_exporter": "python",
   "pygments_lexer": "ipython3",
   "version": "3.7.9 (v3.7.9:13c94747c7, Aug 15 2020, 01:31:08) \n[Clang 6.0 (clang-600.0.57)]"
  },
  "orig_nbformat": 4,
  "vscode": {
   "interpreter": {
    "hash": "9e5532c3338948ef3923f84fcb49a3fec3185e68b18b7cb85088cd68c49cbe22"
   }
  }
 },
 "nbformat": 4,
 "nbformat_minor": 2
}
