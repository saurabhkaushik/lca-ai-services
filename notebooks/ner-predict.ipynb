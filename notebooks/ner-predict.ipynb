{
 "cells": [
  {
   "cell_type": "code",
   "execution_count": 25,
   "metadata": {},
   "outputs": [],
   "source": [
    "from transformers import AutoTokenizer, pipeline\n",
    "from transformers import (\n",
    "    AutoConfig,\n",
    "    AutoModelForTokenClassification,\n",
    "    AutoTokenizer\n",
    ")\n",
    "import json\n",
    "\n",
    "#model_path = 'cuad-models/roberta-base/'\n",
    "model_path = \"dslim/bert-base-NER\"\n",
    "#tokenizer = AutoTokenizer.from_pretrained(\"distilbert-base-uncased\")\n",
    "test_data_file = './cuad-data/CUADv12.json'\n",
    "\n",
    "def prep_data():\n",
    "    with open(test_data_file) as json_file:\n",
    "        data = json.load(json_file)\n",
    "\n",
    "    contract = data['data'][0]['paragraphs'][0]['context']\n",
    "    return contract\n",
    "\n",
    "def initialise(): \n",
    "    tokenizer = AutoTokenizer.from_pretrained(model_path)\n",
    "    model = AutoModelForTokenClassification.from_pretrained(model_path)\n",
    "    question=\"null\"\n",
    "    tokenizer.encode(question, truncation=True, padding=True)\n",
    "\n",
    "    nlp = pipeline('ner', model=model, tokenizer=tokenizer)\n",
    "    return tokenizer, nlp\n",
    "\n",
    "def predict(contract, tokenizer, nlp):\n",
    "    tokenizer.encode(contract, truncation=True, padding=True)\n",
    "    ner_result = nlp(contract)\n",
    "\n",
    "    return ner_result\n"
   ]
  },
  {
   "cell_type": "code",
   "execution_count": 26,
   "metadata": {},
   "outputs": [
    {
     "data": {
      "text/plain": [
       "[{'entity': 'I-MISC',\n",
       "  'score': 0.7299112,\n",
       "  'index': 18,\n",
       "  'word': 'Name',\n",
       "  'start': 67,\n",
       "  'end': 71}]"
      ]
     },
     "execution_count": 26,
     "metadata": {},
     "output_type": "execute_result"
    }
   ],
   "source": [
    "tokenizer, nlp = initialise()\n",
    "contract = prep_data()\n",
    "#print (\"contract\", contract) \n",
    "contract = \"Highlight the parts (if any) of this contract related to \\\"Document Name\\\" that should be reviewed by a lawyer. Details: The name of the contract\"\n",
    "answer = predict(contract, tokenizer, nlp)\n",
    "answer"
   ]
  },
  {
   "cell_type": "code",
   "execution_count": null,
   "metadata": {},
   "outputs": [],
   "source": []
  }
 ],
 "metadata": {
  "kernelspec": {
   "display_name": "Python 3.7.9 ('env': venv)",
   "language": "python",
   "name": "python3"
  },
  "language_info": {
   "codemirror_mode": {
    "name": "ipython",
    "version": 3
   },
   "file_extension": ".py",
   "mimetype": "text/x-python",
   "name": "python",
   "nbconvert_exporter": "python",
   "pygments_lexer": "ipython3",
   "version": "3.7.9"
  },
  "orig_nbformat": 4,
  "vscode": {
   "interpreter": {
    "hash": "9e5532c3338948ef3923f84fcb49a3fec3185e68b18b7cb85088cd68c49cbe22"
   }
  }
 },
 "nbformat": 4,
 "nbformat_minor": 2
}
