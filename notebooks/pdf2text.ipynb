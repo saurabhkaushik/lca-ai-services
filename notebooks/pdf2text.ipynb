{
 "cells": [
  {
   "cell_type": "code",
   "execution_count": 1,
   "metadata": {},
   "outputs": [
    {
     "name": "stdout",
     "output_type": "stream",
     "text": [
      "Collecting PyPDF2\n",
      "  Downloading PyPDF2-2.11.1-py3-none-any.whl (220 kB)\n",
      "\u001b[2K     \u001b[90m━━━━━━━━━━━━━━━━━━━━━━━━━━━━━━━━━━━━━━━\u001b[0m \u001b[32m220.4/220.4 kB\u001b[0m \u001b[31m1.1 MB/s\u001b[0m eta \u001b[36m0:00:00\u001b[0m00:01\u001b[0m00:01\u001b[0m\n",
      "\u001b[?25hRequirement already satisfied: typing-extensions>=3.10.0.0 in ./env/lib/python3.7/site-packages (from PyPDF2) (4.1.1)\n",
      "Installing collected packages: PyPDF2\n",
      "Successfully installed PyPDF2-2.11.1\n",
      "\n",
      "\u001b[1m[\u001b[0m\u001b[34;49mnotice\u001b[0m\u001b[1;39;49m]\u001b[0m\u001b[39;49m A new release of pip available: \u001b[0m\u001b[31;49m22.2.2\u001b[0m\u001b[39;49m -> \u001b[0m\u001b[32;49m22.3\u001b[0m\n",
      "\u001b[1m[\u001b[0m\u001b[34;49mnotice\u001b[0m\u001b[1;39;49m]\u001b[0m\u001b[39;49m To update, run: \u001b[0m\u001b[32;49mpip install --upgrade pip\u001b[0m\n"
     ]
    }
   ],
   "source": [
    "!pip3 install PyPDF2\n"
   ]
  },
  {
   "cell_type": "code",
   "execution_count": 1,
   "metadata": {},
   "outputs": [
    {
     "name": "stderr",
     "output_type": "stream",
     "text": [
      "Xref table not zero-indexed. ID numbers for objects will be corrected.\n"
     ]
    },
    {
     "name": "stdout",
     "output_type": "stream",
     "text": [
      "100\n",
      "you’reone page away\n",
      "from theno-holds -barred story\n",
      "ofone year \n",
      "inthe life of a company .\n",
      "It’s the story of\n",
      "big battles ,\n",
      "stinging defeats\n",
      "&\n",
      "gritty comebacks .\n",
      "unexpected alliances ,\n",
      "daring forays\n",
      "&\n",
      "game -changing\n",
      "discoveries .\n",
      "In many ways,\n",
      "it’s a story about the future,\n",
      "as well as the recent past,\n",
      "and about all business today.\n",
      "which means it ’s about e -business.\n",
      "and one in particular.\n",
      "annual report 2000\n",
      "®\n"
     ]
    }
   ],
   "source": [
    "# importing required modules \n",
    "import PyPDF2 \n",
    "    \n",
    "# creating a pdf file object \n",
    "pdfFileObj = open('./store/IBM_Annual_Report_2000.pdf', 'rb') \n",
    "    \n",
    "# creating a pdf reader object \n",
    "pdfReader = PyPDF2.PdfFileReader(pdfFileObj) \n",
    "    \n",
    "# printing number of pages in pdf file \n",
    "print(pdfReader.numPages) \n",
    "\n",
    "#This will store the number of pages of this pdf file\n",
    "x = pdfReader.numPages\n",
    " \n",
    "#create a variable that will select the selected number of pages\n",
    "pageobj = pdfReader.getPage(0)\n",
    " \n",
    "#(x+1) because python indentation starts with 0.\n",
    "#create text variable which will store all text datafrom pdf file\n",
    "text = pageobj.extractText()\n",
    "\n",
    "print (text)\n",
    "file1 = open(r\"./store/Annual_text.txt\", \"a\")\n",
    "file1.writelines(text)  \n",
    "file1.close()\n",
    "    \n",
    "# closing the pdf file object \n",
    "pdfFileObj.close() "
   ]
  },
  {
   "cell_type": "code",
   "execution_count": 4,
   "metadata": {},
   "outputs": [
    {
     "name": "stdout",
     "output_type": "stream",
     "text": [
      "Total Page:  100\n",
      "you’reone page away\n",
      "from theno-holds -barred story\n",
      "ofone year \n",
      "inthe life of a company .\n",
      "It’s the story of\n",
      "big battles ,\n",
      "stinging defeats\n",
      "&\n",
      "gritty comebacks .\n",
      "unexpected alliances ,\n",
      "daring forays\n",
      "&\n",
      "game -changing\n",
      "discoveries .\n",
      "In many ways,\n",
      "it’s a story about the future,\n",
      "as well as the recent past,\n",
      "and about all business today.\n",
      "which means it ’s about e -business.\n",
      "and one in particular.\n",
      "annual report 2000\n",
      "®\n"
     ]
    }
   ],
   "source": [
    "# importing required modules \n",
    "import PyPDF2 \n",
    "    \n",
    "# creating a pdf file object \n",
    "pdfFileObj = open('./store/IBM_Annual_Report_2000.pdf', 'rb') \n",
    "filename = './store/IBM_Annual_Report_2000.pdf'\n",
    "    \n",
    "# creating a pdf reader object \n",
    "pdfReader = PyPDF2.PdfReader(filename) \n",
    "    \n",
    "#This will store the number of pages of this pdf file\n",
    "x = pdfReader.numPages\n",
    "print(\"Total Page: \", x) \n",
    " \n",
    "#create a variable that will select the selected number of pages\n",
    "pageobj = pdfReader.getPage(0)\n",
    " \n",
    "#(x+1) because python indentation starts with 0.\n",
    "#create text variable which will store all text datafrom pdf file\n",
    "text = pageobj.extractText()    \n",
    "\n",
    "print (text)\n",
    "file1 = open(r\"./store/Annual_text.txt\", \"a\")\n",
    "file1.writelines(text)  \n",
    "file1.close()\n",
    "    \n",
    "# closing the pdf file object \n",
    "pdfFileObj.close() "
   ]
  }
 ],
 "metadata": {
  "kernelspec": {
   "display_name": "Python 3.7.9 ('env': venv)",
   "language": "python",
   "name": "python3"
  },
  "language_info": {
   "codemirror_mode": {
    "name": "ipython",
    "version": 3
   },
   "file_extension": ".py",
   "mimetype": "text/x-python",
   "name": "python",
   "nbconvert_exporter": "python",
   "pygments_lexer": "ipython3",
   "version": "3.7.9"
  },
  "orig_nbformat": 4,
  "vscode": {
   "interpreter": {
    "hash": "9e5532c3338948ef3923f84fcb49a3fec3185e68b18b7cb85088cd68c49cbe22"
   }
  }
 },
 "nbformat": 4,
 "nbformat_minor": 2
}
