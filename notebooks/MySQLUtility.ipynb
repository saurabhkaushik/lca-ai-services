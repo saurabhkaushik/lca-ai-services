{
 "cells": [
  {
   "cell_type": "code",
   "execution_count": null,
   "metadata": {},
   "outputs": [],
   "source": [
    "#!pip3 install PyMySQL\n",
    "#!pip3 install mysql-connector-python"
   ]
  },
  {
   "cell_type": "code",
   "execution_count": 1,
   "metadata": {},
   "outputs": [],
   "source": [
    "import mysql.connector\n",
    "from mysql.connector.constants import ClientFlag\n",
    "import datetime\n",
    "\n",
    "config1 = {\n",
    "    'user': 'root',\n",
    "    'password': '7gDKj,>,*2A}7BXj',\n",
    "    'host': '34.28.58.198',\n",
    "    'client_flags': [ClientFlag.SSL],\n",
    "    'ssl_ca': './store/sqldb/server-ca.pem',\n",
    "    'ssl_cert': './store/sqldb/client-cert.pem',\n",
    "    'ssl_key': './store/sqldb/client-key.pem'\n",
    "}\n",
    "\n",
    "config2 = {\n",
    "    'user': 'root',\n",
    "    'password': '7gDKj,>,*2A}7BXj',\n",
    "    'host': '34.28.58.198',\n",
    "    'client_flags': [ClientFlag.SSL],\n",
    "    'ssl_ca': './store/sqldb/server-ca.pem',\n",
    "    'ssl_cert': './store/sqldb/client-cert.pem',\n",
    "    'ssl_key': './store/sqldb/client-key.pem',\n",
    "    'database' : 'lca_db'\n",
    "}\n",
    "\n",
    "schema_contract = \"CREATE TABLE IF NOT EXISTS contract_data (\" + \\\n",
    "               \"id VARCHAR(255) NOT NULL, \" + \\\n",
    "               \"created DATETIME, \" + \\\n",
    "               \"title VARCHAR(255), \" + \\\n",
    "               \"content LONGTEXT, \" + \\\n",
    "               \"response LONGTEXT, \" + \\\n",
    "               \"userid VARCHAR(255));\"\n",
    "               \n"
   ]
  },
  {
   "cell_type": "code",
   "execution_count": 2,
   "metadata": {},
   "outputs": [
    {
     "ename": "DatabaseError",
     "evalue": "1007 (HY000): Can't create database 'lca_db'; database exists",
     "output_type": "error",
     "traceback": [
      "\u001b[0;31m---------------------------------------------------------------------------\u001b[0m",
      "\u001b[0;31mDatabaseError\u001b[0m                             Traceback (most recent call last)",
      "\u001b[0;32m/var/folders/8j/vv0tvcpd46bc13kgm3nd2zsw0000gn/T/ipykernel_18795/1336697359.py\u001b[0m in \u001b[0;36m<module>\u001b[0;34m\u001b[0m\n\u001b[1;32m     11\u001b[0m     \u001b[0mcnxn\u001b[0m\u001b[0;34m.\u001b[0m\u001b[0mclose\u001b[0m\u001b[0;34m(\u001b[0m\u001b[0;34m)\u001b[0m\u001b[0;34m\u001b[0m\u001b[0;34m\u001b[0m\u001b[0m\n\u001b[1;32m     12\u001b[0m \u001b[0;34m\u001b[0m\u001b[0m\n\u001b[0;32m---> 13\u001b[0;31m \u001b[0mcreatedb\u001b[0m\u001b[0;34m(\u001b[0m\u001b[0;34m)\u001b[0m\u001b[0;34m\u001b[0m\u001b[0;34m\u001b[0m\u001b[0m\n\u001b[0m\u001b[1;32m     14\u001b[0m \u001b[0mcreateschema\u001b[0m\u001b[0;34m(\u001b[0m\u001b[0;34m)\u001b[0m\u001b[0;34m\u001b[0m\u001b[0;34m\u001b[0m\u001b[0m\n",
      "\u001b[0;32m/var/folders/8j/vv0tvcpd46bc13kgm3nd2zsw0000gn/T/ipykernel_18795/1336697359.py\u001b[0m in \u001b[0;36mcreatedb\u001b[0;34m()\u001b[0m\n\u001b[1;32m      2\u001b[0m     \u001b[0mcnxn\u001b[0m \u001b[0;34m=\u001b[0m \u001b[0mmysql\u001b[0m\u001b[0;34m.\u001b[0m\u001b[0mconnector\u001b[0m\u001b[0;34m.\u001b[0m\u001b[0mconnect\u001b[0m\u001b[0;34m(\u001b[0m\u001b[0;34m**\u001b[0m\u001b[0mconfig1\u001b[0m\u001b[0;34m)\u001b[0m\u001b[0;34m\u001b[0m\u001b[0;34m\u001b[0m\u001b[0m\n\u001b[1;32m      3\u001b[0m     \u001b[0mcursor\u001b[0m \u001b[0;34m=\u001b[0m \u001b[0mcnxn\u001b[0m\u001b[0;34m.\u001b[0m\u001b[0mcursor\u001b[0m\u001b[0;34m(\u001b[0m\u001b[0;34m)\u001b[0m  \u001b[0;31m# initialize connection cursor\u001b[0m\u001b[0;34m\u001b[0m\u001b[0;34m\u001b[0m\u001b[0m\n\u001b[0;32m----> 4\u001b[0;31m     \u001b[0mcursor\u001b[0m\u001b[0;34m.\u001b[0m\u001b[0mexecute\u001b[0m\u001b[0;34m(\u001b[0m\u001b[0;34m'CREATE DATABASE lca_db'\u001b[0m\u001b[0;34m)\u001b[0m\u001b[0;34m\u001b[0m\u001b[0;34m\u001b[0m\u001b[0m\n\u001b[0m\u001b[1;32m      5\u001b[0m     \u001b[0mcnxn\u001b[0m\u001b[0;34m.\u001b[0m\u001b[0mclose\u001b[0m\u001b[0;34m(\u001b[0m\u001b[0;34m)\u001b[0m  \u001b[0;31m# close connection because we will be reconnecting to testdb\u001b[0m\u001b[0;34m\u001b[0m\u001b[0;34m\u001b[0m\u001b[0m\n\u001b[1;32m      6\u001b[0m \u001b[0;34m\u001b[0m\u001b[0m\n",
      "\u001b[0;32m~/Workspace/lca-ai-services/env/lib/python3.7/site-packages/mysql/connector/cursor.py\u001b[0m in \u001b[0;36mexecute\u001b[0;34m(self, operation, params, multi)\u001b[0m\n\u001b[1;32m    562\u001b[0m \u001b[0;34m\u001b[0m\u001b[0m\n\u001b[1;32m    563\u001b[0m         \u001b[0;32mtry\u001b[0m\u001b[0;34m:\u001b[0m\u001b[0;34m\u001b[0m\u001b[0;34m\u001b[0m\u001b[0m\n\u001b[0;32m--> 564\u001b[0;31m             \u001b[0mself\u001b[0m\u001b[0;34m.\u001b[0m\u001b[0m_handle_result\u001b[0m\u001b[0;34m(\u001b[0m\u001b[0mself\u001b[0m\u001b[0;34m.\u001b[0m\u001b[0m_connection\u001b[0m\u001b[0;34m.\u001b[0m\u001b[0mcmd_query\u001b[0m\u001b[0;34m(\u001b[0m\u001b[0mstmt\u001b[0m\u001b[0;34m)\u001b[0m\u001b[0;34m)\u001b[0m\u001b[0;34m\u001b[0m\u001b[0;34m\u001b[0m\u001b[0m\n\u001b[0m\u001b[1;32m    565\u001b[0m         \u001b[0;32mexcept\u001b[0m \u001b[0mInterfaceError\u001b[0m \u001b[0;32mas\u001b[0m \u001b[0merr\u001b[0m\u001b[0;34m:\u001b[0m\u001b[0;34m\u001b[0m\u001b[0;34m\u001b[0m\u001b[0m\n\u001b[1;32m    566\u001b[0m             \u001b[0;32mif\u001b[0m \u001b[0mself\u001b[0m\u001b[0;34m.\u001b[0m\u001b[0m_connection\u001b[0m\u001b[0;34m.\u001b[0m\u001b[0mhave_next_result\u001b[0m\u001b[0;34m:\u001b[0m\u001b[0;34m\u001b[0m\u001b[0;34m\u001b[0m\u001b[0m\n",
      "\u001b[0;32m~/Workspace/lca-ai-services/env/lib/python3.7/site-packages/mysql/connector/connection.py\u001b[0m in \u001b[0;36mcmd_query\u001b[0;34m(self, query, raw, buffered, raw_as_string)\u001b[0m\n\u001b[1;32m    988\u001b[0m         \u001b[0mquery\u001b[0m \u001b[0;34m=\u001b[0m \u001b[0mbytes\u001b[0m\u001b[0;34m(\u001b[0m\u001b[0mpacket\u001b[0m\u001b[0;34m)\u001b[0m\u001b[0;34m\u001b[0m\u001b[0;34m\u001b[0m\u001b[0m\n\u001b[1;32m    989\u001b[0m         \u001b[0;32mtry\u001b[0m\u001b[0;34m:\u001b[0m\u001b[0;34m\u001b[0m\u001b[0;34m\u001b[0m\u001b[0m\n\u001b[0;32m--> 990\u001b[0;31m             \u001b[0mresult\u001b[0m \u001b[0;34m=\u001b[0m \u001b[0mself\u001b[0m\u001b[0;34m.\u001b[0m\u001b[0m_handle_result\u001b[0m\u001b[0;34m(\u001b[0m\u001b[0mself\u001b[0m\u001b[0;34m.\u001b[0m\u001b[0m_send_cmd\u001b[0m\u001b[0;34m(\u001b[0m\u001b[0mServerCmd\u001b[0m\u001b[0;34m.\u001b[0m\u001b[0mQUERY\u001b[0m\u001b[0;34m,\u001b[0m \u001b[0mquery\u001b[0m\u001b[0;34m)\u001b[0m\u001b[0;34m)\u001b[0m\u001b[0;34m\u001b[0m\u001b[0;34m\u001b[0m\u001b[0m\n\u001b[0m\u001b[1;32m    991\u001b[0m         \u001b[0;32mexcept\u001b[0m \u001b[0mProgrammingError\u001b[0m \u001b[0;32mas\u001b[0m \u001b[0merr\u001b[0m\u001b[0;34m:\u001b[0m\u001b[0;34m\u001b[0m\u001b[0;34m\u001b[0m\u001b[0m\n\u001b[1;32m    992\u001b[0m             \u001b[0;32mif\u001b[0m \u001b[0merr\u001b[0m\u001b[0;34m.\u001b[0m\u001b[0merrno\u001b[0m \u001b[0;34m==\u001b[0m \u001b[0;36m3948\u001b[0m \u001b[0;32mand\u001b[0m \u001b[0;34m\"Loading local data is disabled\"\u001b[0m \u001b[0;32min\u001b[0m \u001b[0merr\u001b[0m\u001b[0;34m.\u001b[0m\u001b[0mmsg\u001b[0m\u001b[0;34m:\u001b[0m\u001b[0;34m\u001b[0m\u001b[0;34m\u001b[0m\u001b[0m\n",
      "\u001b[0;32m~/Workspace/lca-ai-services/env/lib/python3.7/site-packages/mysql/connector/connection.py\u001b[0m in \u001b[0;36m_handle_result\u001b[0;34m(self, packet)\u001b[0m\n\u001b[1;32m    782\u001b[0m             \u001b[0;32mreturn\u001b[0m \u001b[0mself\u001b[0m\u001b[0;34m.\u001b[0m\u001b[0m_handle_eof\u001b[0m\u001b[0;34m(\u001b[0m\u001b[0mpacket\u001b[0m\u001b[0;34m)\u001b[0m\u001b[0;34m\u001b[0m\u001b[0;34m\u001b[0m\u001b[0m\n\u001b[1;32m    783\u001b[0m         \u001b[0;32mif\u001b[0m \u001b[0mpacket\u001b[0m\u001b[0;34m[\u001b[0m\u001b[0;36m4\u001b[0m\u001b[0;34m]\u001b[0m \u001b[0;34m==\u001b[0m \u001b[0;36m255\u001b[0m\u001b[0;34m:\u001b[0m\u001b[0;34m\u001b[0m\u001b[0;34m\u001b[0m\u001b[0m\n\u001b[0;32m--> 784\u001b[0;31m             \u001b[0;32mraise\u001b[0m \u001b[0mget_exception\u001b[0m\u001b[0;34m(\u001b[0m\u001b[0mpacket\u001b[0m\u001b[0;34m)\u001b[0m\u001b[0;34m\u001b[0m\u001b[0;34m\u001b[0m\u001b[0m\n\u001b[0m\u001b[1;32m    785\u001b[0m \u001b[0;34m\u001b[0m\u001b[0m\n\u001b[1;32m    786\u001b[0m         \u001b[0;31m# We have a text result set\u001b[0m\u001b[0;34m\u001b[0m\u001b[0;34m\u001b[0m\u001b[0;34m\u001b[0m\u001b[0m\n",
      "\u001b[0;31mDatabaseError\u001b[0m: 1007 (HY000): Can't create database 'lca_db'; database exists"
     ]
    }
   ],
   "source": [
    "def createdb():\n",
    "    cnxn = mysql.connector.connect(**config1)\n",
    "    cursor = cnxn.cursor()  \n",
    "    cursor.execute('CREATE DATABASE lca_db')\n",
    "    cnxn.close()  \n",
    "\n",
    "def createschema():\n",
    "    cnxn = mysql.connector.connect(**config2)\n",
    "    cursor = cnxn.cursor()  \n",
    "    cursor.execute(schema_contract)  \n",
    "    cnxn.close()  \n",
    "\n",
    "createdb()\n",
    "createschema()"
   ]
  },
  {
   "cell_type": "code",
   "execution_count": 17,
   "metadata": {},
   "outputs": [
    {
     "data": {
      "text/plain": [
       "[('a7ddafaf-5f70-11ed-bf06-42010a800005',\n",
       "  datetime.datetime(2012, 3, 23, 0, 0),\n",
       "  'Jadddddne',\n",
       "  'Doe',\n",
       "  '',\n",
       "  'admin')]"
      ]
     },
     "execution_count": 17,
     "metadata": {},
     "output_type": "execute_result"
    }
   ],
   "source": [
    "def getcontract(): \n",
    "    cnxn = mysql.connector.connect(**config2)\n",
    "    cursor = cnxn.cursor()  \n",
    "    qeuryquery_str = \"Select * from contract_data\"\n",
    "    cursor.execute(qeuryquery_str)\n",
    "    results = cursor.fetchall()\n",
    "    cnxn.close()\n",
    "    return results\n",
    "\n",
    "def getcontract_id(id): \n",
    "    cnxn = mysql.connector.connect(**config2)\n",
    "    cursor = cnxn.cursor()  \n",
    "    qeuryquery_str = \"Select * from contract_data where id =%s\"\n",
    "    val = (id,)\n",
    "    cursor.execute(qeuryquery_str, val)\n",
    "    results = cursor.fetchall()\n",
    "    cnxn.close()\n",
    "    return results\n",
    "\n",
    "\n",
    "getcontract_id('a7ddafaf-5f70-11ed-bf06-42010a800005')\n"
   ]
  },
  {
   "cell_type": "code",
   "execution_count": 10,
   "metadata": {},
   "outputs": [
    {
     "name": "stdout",
     "output_type": "stream",
     "text": [
      "1 record(s) affected\n",
      "('a7ddafaf-5f70-11ed-bf06-42010a800005',)\n"
     ]
    }
   ],
   "source": [
    "# first we setup our query\n",
    "import datetime\n",
    "\n",
    "def insert_contract_data(created, title, content, response, userid): \n",
    "    cnxn = mysql.connector.connect(**config2)\n",
    "    cursor = cnxn.cursor()  \n",
    "    uuid_query = \"SELECT UUID() AS uuid;\"\n",
    "    cursor.execute(uuid_query)\n",
    "    results = cursor.fetchall()\n",
    "    uuid = ''\n",
    "    if results:\n",
    "        for row in results:\n",
    "            uuid = row[0]\n",
    "\n",
    "    insert_stmt = (\"INSERT INTO contract_data (id, created, title, content, response, userid) \"\n",
    "            \"VALUES (%s, %s, %s, %s, %s, %s)\")\n",
    "\n",
    "    data = (uuid, created, title, content, response, userid)\n",
    "\n",
    "    cursor.execute(insert_stmt, data)\n",
    "    cnxn.commit()\n",
    "\n",
    "    cnxn.close()\n",
    "    print(cursor.rowcount, \"record(s) affected\")\n",
    "    return "
   ]
  },
  {
   "cell_type": "code",
   "execution_count": 23,
   "metadata": {},
   "outputs": [
    {
     "name": "stdout",
     "output_type": "stream",
     "text": [
      "1 record(s) affected\n"
     ]
    },
    {
     "data": {
      "text/plain": [
       "[]"
      ]
     },
     "execution_count": 23,
     "metadata": {},
     "output_type": "execute_result"
    }
   ],
   "source": [
    "def update_contract_data(id, title, content, response): \n",
    "    cnxn = mysql.connector.connect(**config2)\n",
    "    cursor = cnxn.cursor()  \n",
    "\n",
    "    sql = \"UPDATE contract_data SET title = %s, content = %s, response = %s WHERE id = %s\"\n",
    "    val = (title, content, response, id)\n",
    "\n",
    "    cursor.execute(sql, val)\n",
    "    cnxn.commit()\n",
    "\n",
    "    cnxn.close()\n",
    "    print(cursor.rowcount, \"record(s) affected\")\n",
    "\n",
    "    return \n",
    "\n",
    "update_contract_data('a7ddafaf-5f70-11ed-bf06-42010a800005', 'Jadddsfssdfsdfdfddne', 'Dodfsfsdfsfde', 'fasfsaf')\n",
    "\n"
   ]
  },
  {
   "cell_type": "code",
   "execution_count": 29,
   "metadata": {},
   "outputs": [
    {
     "name": "stdout",
     "output_type": "stream",
     "text": [
      "0 record(s) affected\n"
     ]
    },
    {
     "data": {
      "text/plain": [
       "[]"
      ]
     },
     "execution_count": 29,
     "metadata": {},
     "output_type": "execute_result"
    }
   ],
   "source": [
    "def delete_contract_data(id): \n",
    "    cnxn = mysql.connector.connect(**config2)\n",
    "    cursor = cnxn.cursor()  \n",
    "\n",
    "    sql = \"DELETE from contract_data where id = %s;\"\n",
    "    val = (id, )\n",
    "\n",
    "    cursor.execute(sql, val)\n",
    "    cnxn.commit()\n",
    "\n",
    "    cnxn.close()\n",
    "    print(cursor.rowcount, \"record(s) affected\")\n",
    "\n",
    "    return \n",
    "\n",
    "id = 'a7ddafaf-5f70-11ed-bf06-42010a800005'\n",
    "delete_contract_data(id)\n",
    "getcontract_id(id)"
   ]
  }
 ],
 "metadata": {
  "kernelspec": {
   "display_name": "Python 3.7.9 ('env': venv)",
   "language": "python",
   "name": "python3"
  },
  "language_info": {
   "codemirror_mode": {
    "name": "ipython",
    "version": 3
   },
   "file_extension": ".py",
   "mimetype": "text/x-python",
   "name": "python",
   "nbconvert_exporter": "python",
   "pygments_lexer": "ipython3",
   "version": "3.7.9"
  },
  "orig_nbformat": 4,
  "vscode": {
   "interpreter": {
    "hash": "9e5532c3338948ef3923f84fcb49a3fec3185e68b18b7cb85088cd68c49cbe22"
   }
  }
 },
 "nbformat": 4,
 "nbformat_minor": 2
}
