{
 "cells": [
  {
   "cell_type": "code",
   "execution_count": null,
   "metadata": {},
   "outputs": [],
   "source": [
    "#!pip3 install PyMySQL\n",
    "#!pip3 install mysql-connector-python"
   ]
  },
  {
   "cell_type": "code",
   "execution_count": 4,
   "metadata": {},
   "outputs": [],
   "source": [
    "import mysql.connector\n",
    "from mysql.connector.constants import ClientFlag\n",
    "import datetime\n",
    "\n",
    "config1 = {\n",
    "    'user': 'root',\n",
    "    'password': 'nu123456',\n",
    "    'host': '34.170.168.203',\n",
    "    'client_flags': [ClientFlag.SSL],\n",
    "    'ssl_ca': './store/sqldb/server-ca.pem',\n",
    "    'ssl_cert': './store/sqldb/client-cert.pem',\n",
    "    'ssl_key': './store/sqldb/client-key.pem'\n",
    "}\n",
    "\n",
    "config2 = {\n",
    "    'user': 'root',\n",
    "    'password': 'nu123456',\n",
    "    'host': '34.170.168.203',\n",
    "    'client_flags': [ClientFlag.SSL],\n",
    "    'ssl_ca': './store/sqldb/server-ca.pem',\n",
    "    'ssl_cert': './store/sqldb/client-cert.pem',\n",
    "    'ssl_key': './store/sqldb/client-key.pem',\n",
    "    'database' : 'lca_db'\n",
    "}\n",
    "\n",
    "schema_contract = \"CREATE TABLE IF NOT EXISTS contract_data (\" + \\\n",
    "               \"id VARCHAR(255) NOT NULL, \" + \\\n",
    "               \"created DATETIME, \" + \\\n",
    "               \"title VARCHAR(255), \" + \\\n",
    "               \"content LONGTEXT, \" + \\\n",
    "               \"response LONGTEXT, \" + \\\n",
    "               \"userid VARCHAR(255));\"\n"
   ]
  },
  {
   "cell_type": "code",
   "execution_count": 2,
   "metadata": {},
   "outputs": [],
   "source": [
    "def createdb():\n",
    "    cnxn = mysql.connector.connect(**config1)\n",
    "    cursor = cnxn.cursor()  \n",
    "    cursor.execute('CREATE DATABASE lca_db')\n",
    "    cnxn.close()  \n",
    "\n",
    "def createschema():\n",
    "    cnxn = mysql.connector.connect(**config2)\n",
    "    cursor = cnxn.cursor()  \n",
    "    cursor.execute(schema_contract)  \n",
    "    cnxn.close()  \n",
    "\n",
    "createdb()\n",
    "createschema()"
   ]
  },
  {
   "cell_type": "code",
   "execution_count": 3,
   "metadata": {},
   "outputs": [
    {
     "data": {
      "text/plain": [
       "[]"
      ]
     },
     "execution_count": 3,
     "metadata": {},
     "output_type": "execute_result"
    }
   ],
   "source": [
    "def getcontract(): \n",
    "    cnxn = mysql.connector.connect(**config2)\n",
    "    cursor = cnxn.cursor()  \n",
    "    qeuryquery_str = \"Select * from contract_data\"\n",
    "    cursor.execute(qeuryquery_str)\n",
    "    results = cursor.fetchall()\n",
    "    cnxn.close()\n",
    "    return results\n",
    "\n",
    "def getcontract_id(id): \n",
    "    cnxn = mysql.connector.connect(**config2)\n",
    "    cursor = cnxn.cursor()  \n",
    "    qeuryquery_str = \"Select * from contract_data where id =%s\"\n",
    "    val = (id,)\n",
    "    cursor.execute(qeuryquery_str, val)\n",
    "    results = cursor.fetchall()\n",
    "    cnxn.close()\n",
    "    return results\n",
    "\n",
    "\n",
    "getcontract_id('a7ddafaf-5f70-11ed-bf06-42010a800005')\n"
   ]
  },
  {
   "cell_type": "code",
   "execution_count": 6,
   "metadata": {},
   "outputs": [
    {
     "name": "stdout",
     "output_type": "stream",
     "text": [
      "1 record(s) affected\n"
     ]
    }
   ],
   "source": [
    "# first we setup our query\n",
    "import datetime\n",
    "import mysql.connector\n",
    "\n",
    "from mysql.connector.constants import ClientFlag \n",
    "config2 = {\n",
    "    'user': 'root',\n",
    "    'password': 'nu123456',\n",
    "    'host': '34.170.168.203',\n",
    "    'client_flags': [ClientFlag.SSL],\n",
    "    'ssl_ca': './store/sqldb/server-ca.pem',\n",
    "    'ssl_cert': './store/sqldb/client-cert.pem',\n",
    "    'ssl_key': './store/sqldb/client-key.pem',\n",
    "    'database' : 'lca_db'\n",
    "}\n",
    "table_id1 = 'contract_data'\n",
    "table_id2 = 'seed_data'\n",
    "table_id3 = 'training_data'\n",
    "def insert_contract_data(): \n",
    "    cnxn = mysql.connector.connect(**config2)\n",
    "    cursor = cnxn.cursor()  \n",
    "    uuid_query = \"SELECT UUID() AS uuid;\"\n",
    "    cursor.execute(uuid_query)\n",
    "    results = cursor.fetchall()\n",
    "    uuid = ''\n",
    "    if results:\n",
    "        for row in results:\n",
    "            uuid = row[0]\n",
    "\n",
    "    insert_stmt = (\"INSERT INTO \" + table_id2 + \" (id) \"\n",
    "                \"VALUES (%s);\")\n",
    "\n",
    "    data = (\"afasdfsafds\", )\n",
    "\n",
    "    cursor.execute(insert_stmt, data)\n",
    "    cnxn.commit()\n",
    "\n",
    "    cnxn.close()\n",
    "    print(cursor.rowcount, \"record(s) affected\")\n",
    "    return \n",
    "insert_contract_data()"
   ]
  },
  {
   "cell_type": "code",
   "execution_count": 5,
   "metadata": {},
   "outputs": [
    {
     "name": "stdout",
     "output_type": "stream",
     "text": [
      "0 record(s) affected\n"
     ]
    }
   ],
   "source": [
    "def update_contract_data(id, title, content, response): \n",
    "    cnxn = mysql.connector.connect(**config2)\n",
    "    cursor = cnxn.cursor()  \n",
    "\n",
    "    sql = \"UPDATE contract_data SET title = %s, content = %s, response = %s WHERE id = %s\"\n",
    "    val = (title, content, response, id)\n",
    "\n",
    "    cursor.execute(sql, val)\n",
    "    cnxn.commit()\n",
    "\n",
    "    cnxn.close()\n",
    "    print(cursor.rowcount, \"record(s) affected\")\n",
    "\n",
    "    return \n",
    "\n",
    "update_contract_data('a7ddafaf-5f70-11ed-bf06-42010a800005', 'Jadddsfssdfsdfdfddne', 'Dodfsfsdfsfde', 'fasfsaf')\n",
    "\n"
   ]
  },
  {
   "cell_type": "code",
   "execution_count": 6,
   "metadata": {},
   "outputs": [
    {
     "name": "stdout",
     "output_type": "stream",
     "text": [
      "0 record(s) affected\n"
     ]
    },
    {
     "data": {
      "text/plain": [
       "[]"
      ]
     },
     "execution_count": 6,
     "metadata": {},
     "output_type": "execute_result"
    }
   ],
   "source": [
    "def delete_contract_data(id): \n",
    "    cnxn = mysql.connector.connect(**config2)\n",
    "    cursor = cnxn.cursor()  \n",
    "\n",
    "    sql = \"DELETE from contract_data where id = %s;\"\n",
    "    val = (id, )\n",
    "\n",
    "    cursor.execute(sql, val)\n",
    "    cnxn.commit()\n",
    "\n",
    "    cnxn.close()\n",
    "    print(cursor.rowcount, \"record(s) affected\")\n",
    "\n",
    "    return \n",
    "\n",
    "id = 'a7ddafaf-5f70-11ed-bf06-42010a800005'\n",
    "delete_contract_data(id)\n",
    "getcontract_id(id)"
   ]
  },
  {
   "cell_type": "code",
   "execution_count": 7,
   "metadata": {},
   "outputs": [
    {
     "name": "stdout",
     "output_type": "stream",
     "text": [
      "0 record(s) affected\n"
     ]
    }
   ],
   "source": [
    "def update_contract_data_batch(batch_data): \n",
    "    cnxn = mysql.connector.connect(**config2)\n",
    "    cursor = cnxn.cursor()  \n",
    "\n",
    "    sql = \"UPDATE contract_data SET title = %s, content = %s, response = %s WHERE id = %s\"\n",
    "    \n",
    "    my_data = []\n",
    "\n",
    "    for row in batch_data:\n",
    "        val = (row['title'], row['content'] , row['id'])\n",
    "        my_data.append(val)\n",
    "\n",
    "    cursor.executemany(sql, my_data)\n",
    "    cnxn.commit()\n",
    "\n",
    "    cnxn.close()\n",
    "    print(cursor.rowcount, \"record(s) affected\")\n",
    "\n",
    "    return \n",
    "\n",
    "#batch_data = [{\"id\" : id, \"content\": content, \"response\" :response}]\n",
    "batch_data = [{\"id\" : id, \"content\": 'content33', \"response\" : 'response33'}, \n",
    "        {\"id\" : id, \"content\": 'content22', \"response22\" : 'response22'}]\n",
    "\n",
    "update_contract_data('a7ddafaf-5f70-11ed-bf06-42010a800005', 'Jadddsfssdfsdfdfddne', 'Dodfsfsdfsfde', 'fasfsaf')"
   ]
  }
 ],
 "metadata": {
  "kernelspec": {
   "display_name": "Python 3.7.9 ('env': venv)",
   "language": "python",
   "name": "python3"
  },
  "language_info": {
   "codemirror_mode": {
    "name": "ipython",
    "version": 3
   },
   "file_extension": ".py",
   "mimetype": "text/x-python",
   "name": "python",
   "nbconvert_exporter": "python",
   "pygments_lexer": "ipython3",
   "version": "3.7.9"
  },
  "orig_nbformat": 4,
  "vscode": {
   "interpreter": {
    "hash": "9e5532c3338948ef3923f84fcb49a3fec3185e68b18b7cb85088cd68c49cbe22"
   }
  }
 },
 "nbformat": 4,
 "nbformat_minor": 2
}
