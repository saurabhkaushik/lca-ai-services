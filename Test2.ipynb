{
 "cells": [
  {
   "cell_type": "code",
   "execution_count": 2,
   "metadata": {},
   "outputs": [
    {
     "name": "stdout",
     "output_type": "stream",
     "text": [
      "\u001b[K     |████████████████████████████████| 42.8 MB 323 kB/s eta 0:00:01     |████████████████████████▊       | 33.1 MB 348 kB/s eta 0:00:28\n",
      "\u001b[?25hRequirement already satisfied: spacy<3.5.0,>=3.4.0 in ./env/lib/python3.7/site-packages (from en-core-web-md==3.4.1) (3.4.3)\n",
      "Requirement already satisfied: wasabi<1.1.0,>=0.9.1 in ./env/lib/python3.7/site-packages (from spacy<3.5.0,>=3.4.0->en-core-web-md==3.4.1) (0.10.1)\n",
      "Requirement already satisfied: preshed<3.1.0,>=3.0.2 in ./env/lib/python3.7/site-packages (from spacy<3.5.0,>=3.4.0->en-core-web-md==3.4.1) (3.0.8)\n",
      "Requirement already satisfied: langcodes<4.0.0,>=3.2.0 in ./env/lib/python3.7/site-packages (from spacy<3.5.0,>=3.4.0->en-core-web-md==3.4.1) (3.3.0)\n",
      "Requirement already satisfied: pydantic!=1.8,!=1.8.1,<1.11.0,>=1.7.4 in ./env/lib/python3.7/site-packages (from spacy<3.5.0,>=3.4.0->en-core-web-md==3.4.1) (1.10.2)\n",
      "Requirement already satisfied: typer<0.8.0,>=0.3.0 in ./env/lib/python3.7/site-packages (from spacy<3.5.0,>=3.4.0->en-core-web-md==3.4.1) (0.7.0)\n",
      "Requirement already satisfied: catalogue<2.1.0,>=2.0.6 in ./env/lib/python3.7/site-packages (from spacy<3.5.0,>=3.4.0->en-core-web-md==3.4.1) (2.0.8)\n",
      "Requirement already satisfied: tqdm<5.0.0,>=4.38.0 in ./env/lib/python3.7/site-packages (from spacy<3.5.0,>=3.4.0->en-core-web-md==3.4.1) (4.64.1)\n",
      "Requirement already satisfied: jinja2 in ./env/lib/python3.7/site-packages (from spacy<3.5.0,>=3.4.0->en-core-web-md==3.4.1) (3.1.2)\n",
      "Requirement already satisfied: murmurhash<1.1.0,>=0.28.0 in ./env/lib/python3.7/site-packages (from spacy<3.5.0,>=3.4.0->en-core-web-md==3.4.1) (1.0.9)\n",
      "Requirement already satisfied: spacy-legacy<3.1.0,>=3.0.10 in ./env/lib/python3.7/site-packages (from spacy<3.5.0,>=3.4.0->en-core-web-md==3.4.1) (3.0.10)\n",
      "Requirement already satisfied: numpy>=1.15.0 in ./env/lib/python3.7/site-packages (from spacy<3.5.0,>=3.4.0->en-core-web-md==3.4.1) (1.21.6)\n",
      "Requirement already satisfied: srsly<3.0.0,>=2.4.3 in ./env/lib/python3.7/site-packages (from spacy<3.5.0,>=3.4.0->en-core-web-md==3.4.1) (2.4.5)\n",
      "Requirement already satisfied: packaging>=20.0 in ./env/lib/python3.7/site-packages (from spacy<3.5.0,>=3.4.0->en-core-web-md==3.4.1) (21.3)\n",
      "Requirement already satisfied: cymem<2.1.0,>=2.0.2 in ./env/lib/python3.7/site-packages (from spacy<3.5.0,>=3.4.0->en-core-web-md==3.4.1) (2.0.7)\n",
      "Collecting typing-extensions<4.2.0,>=3.7.4; python_version < \"3.8\"\n",
      "  Using cached typing_extensions-4.1.1-py3-none-any.whl (26 kB)\n",
      "Requirement already satisfied: spacy-loggers<2.0.0,>=1.0.0 in ./env/lib/python3.7/site-packages (from spacy<3.5.0,>=3.4.0->en-core-web-md==3.4.1) (1.0.3)\n",
      "Requirement already satisfied: requests<3.0.0,>=2.13.0 in ./env/lib/python3.7/site-packages (from spacy<3.5.0,>=3.4.0->en-core-web-md==3.4.1) (2.28.1)\n",
      "Requirement already satisfied: setuptools in ./env/lib/python3.7/site-packages (from spacy<3.5.0,>=3.4.0->en-core-web-md==3.4.1) (65.6.3)\n",
      "Requirement already satisfied: pathy>=0.3.5 in ./env/lib/python3.7/site-packages (from spacy<3.5.0,>=3.4.0->en-core-web-md==3.4.1) (0.10.0)\n",
      "Requirement already satisfied: thinc<8.2.0,>=8.1.0 in ./env/lib/python3.7/site-packages (from spacy<3.5.0,>=3.4.0->en-core-web-md==3.4.1) (8.1.5)\n",
      "Requirement already satisfied: click<9.0.0,>=7.1.1 in ./env/lib/python3.7/site-packages (from typer<0.8.0,>=0.3.0->spacy<3.5.0,>=3.4.0->en-core-web-md==3.4.1) (8.1.3)\n",
      "Requirement already satisfied: zipp>=0.5; python_version < \"3.8\" in ./env/lib/python3.7/site-packages (from catalogue<2.1.0,>=2.0.6->spacy<3.5.0,>=3.4.0->en-core-web-md==3.4.1) (3.11.0)\n",
      "Requirement already satisfied: MarkupSafe>=2.0 in ./env/lib/python3.7/site-packages (from jinja2->spacy<3.5.0,>=3.4.0->en-core-web-md==3.4.1) (2.1.1)\n",
      "Requirement already satisfied: pyparsing!=3.0.5,>=2.0.2 in ./env/lib/python3.7/site-packages (from packaging>=20.0->spacy<3.5.0,>=3.4.0->en-core-web-md==3.4.1) (3.0.9)\n",
      "Requirement already satisfied: certifi>=2017.4.17 in ./env/lib/python3.7/site-packages (from requests<3.0.0,>=2.13.0->spacy<3.5.0,>=3.4.0->en-core-web-md==3.4.1) (2022.9.24)\n",
      "Requirement already satisfied: idna<4,>=2.5 in ./env/lib/python3.7/site-packages (from requests<3.0.0,>=2.13.0->spacy<3.5.0,>=3.4.0->en-core-web-md==3.4.1) (3.4)\n",
      "Requirement already satisfied: urllib3<1.27,>=1.21.1 in ./env/lib/python3.7/site-packages (from requests<3.0.0,>=2.13.0->spacy<3.5.0,>=3.4.0->en-core-web-md==3.4.1) (1.26.13)\n",
      "Requirement already satisfied: charset-normalizer<3,>=2 in ./env/lib/python3.7/site-packages (from requests<3.0.0,>=2.13.0->spacy<3.5.0,>=3.4.0->en-core-web-md==3.4.1) (2.1.1)\n",
      "Collecting smart-open<6.0.0,>=5.2.1\n",
      "  Using cached smart_open-5.2.1-py3-none-any.whl (58 kB)\n",
      "Requirement already satisfied: confection<1.0.0,>=0.0.1 in ./env/lib/python3.7/site-packages (from thinc<8.2.0,>=8.1.0->spacy<3.5.0,>=3.4.0->en-core-web-md==3.4.1) (0.0.3)\n",
      "Requirement already satisfied: blis<0.8.0,>=0.7.8 in ./env/lib/python3.7/site-packages (from thinc<8.2.0,>=8.1.0->spacy<3.5.0,>=3.4.0->en-core-web-md==3.4.1) (0.7.9)\n",
      "Requirement already satisfied: importlib-metadata; python_version < \"3.8\" in ./env/lib/python3.7/site-packages (from click<9.0.0,>=7.1.1->typer<0.8.0,>=0.3.0->spacy<3.5.0,>=3.4.0->en-core-web-md==3.4.1) (5.1.0)\n",
      "Installing collected packages: en-core-web-md, typing-extensions, smart-open\n",
      "  Attempting uninstall: typing-extensions\n",
      "    Found existing installation: typing-extensions 4.4.0\n",
      "    Uninstalling typing-extensions-4.4.0:\n",
      "      Successfully uninstalled typing-extensions-4.4.0\n",
      "  Attempting uninstall: smart-open\n",
      "    Found existing installation: smart-open 6.2.0\n",
      "    Uninstalling smart-open-6.2.0:\n",
      "      Successfully uninstalled smart-open-6.2.0\n",
      "Successfully installed en-core-web-md-3.4.1 smart-open-5.2.1 typing-extensions-4.1.1\n",
      "\u001b[33mWARNING: You are using pip version 20.1.1; however, version 22.3.1 is available.\n",
      "You should consider upgrading via the '/Users/saurabhkaushik/Workspace/lca-ai-services/env/bin/python3 -m pip install --upgrade pip' command.\u001b[0m\n",
      "\u001b[38;5;2m✔ Download and installation successful\u001b[0m\n",
      "You can now load the package via spacy.load('en_core_web_md')\n"
     ]
    }
   ],
   "source": [
    "!python3 -m spacy download en_core_web_md"
   ]
  },
  {
   "cell_type": "code",
   "execution_count": 3,
   "metadata": {},
   "outputs": [
    {
     "name": "stdout",
     "output_type": "stream",
     "text": [
      "environmental issues may include corporate climate policies, energy use, waste, pollution, natural resource conservation, and treatment of animals. esg considerations can also help evaluate any environmental risks a company might face and how the company is managing those risks.\n",
      "environmental issues include corporate climate policies , energy use , waste , pollution , natural resource conservation , treatment animals . esg considerations help evaluate environmental risks company face company managing risks .\n",
      "environmental issue include corporate climate policy , energy use , waste , pollution , natural resource conservation , treatment animal . esg consideration help evaluate environmental risk company face company manage risk .\n",
      "environmental issue include corporate climate policy , energy use , waste , pollution , natural resource conservation , treatment animal . esg consideration help evaluate environmental risk company face company manage risk .\n"
     ]
    }
   ],
   "source": [
    "from app.PreProcessText import PreProcessText\n",
    "\n",
    "ppt = PreProcessText()\n",
    "text = \"Environmental issues may include corporate climate policies, energy use, waste, pollution, natural resource conservation, and treatment of animals. ESG considerations can also help evaluate any environmental risks a company might face and how the company is managing those risks.\"\n",
    "text2 = ppt.preprocess_text(text)\n",
    "print (text2)\n"
   ]
  }
 ],
 "metadata": {
  "kernelspec": {
   "display_name": "Python 3.7.9 ('env': venv)",
   "language": "python",
   "name": "python3"
  },
  "language_info": {
   "codemirror_mode": {
    "name": "ipython",
    "version": 3
   },
   "file_extension": ".py",
   "mimetype": "text/x-python",
   "name": "python",
   "nbconvert_exporter": "python",
   "pygments_lexer": "ipython3",
   "version": "3.7.9"
  },
  "orig_nbformat": 4,
  "vscode": {
   "interpreter": {
    "hash": "9e5532c3338948ef3923f84fcb49a3fec3185e68b18b7cb85088cd68c49cbe22"
   }
  }
 },
 "nbformat": 4,
 "nbformat_minor": 2
}
