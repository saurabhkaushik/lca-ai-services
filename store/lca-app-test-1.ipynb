{
 "cells": [
  {
   "cell_type": "code",
   "execution_count": 1,
   "metadata": {},
   "outputs": [
    {
     "name": "stderr",
     "output_type": "stream",
     "text": [
      "/Users/saurabhkaushik/Workspace/lca-ai-services/env/lib/python3.7/site-packages/tqdm/auto.py:22: TqdmWarning: IProgress not found. Please update jupyter and ipywidgets. See https://ipywidgets.readthedocs.io/en/stable/user_install.html\n",
      "  from .autonotebook import tqdm as notebook_tqdm\n",
      "2022-09-28 13:38:31.551319: I tensorflow/core/platform/cpu_feature_guard.cc:193] This TensorFlow binary is optimized with oneAPI Deep Neural Network Library (oneDNN) to use the following CPU instructions in performance-critical operations:  AVX2 AVX512F AVX512_VNNI FMA\n",
      "To enable them in other operations, rebuild TensorFlow with the appropriate compiler flags.\n"
     ]
    }
   ],
   "source": [
    "import app.qna_service as qna_service\n",
    "import app.ner_service as ner_service "
   ]
  },
  {
   "cell_type": "code",
   "execution_count": 2,
   "metadata": {},
   "outputs": [
    {
     "name": "stdout",
     "output_type": "stream",
     "text": [
      "[{'entity': 'I-ORG', 'score': 0.5096825, 'index': 3, 'word': '##H', 'start': 2, 'end': 3}, {'entity': 'B-MISC', 'score': 0.48932123, 'index': 37, 'word': 'Agreement', 'start': 112, 'end': 121}, {'entity': 'B-ORG', 'score': 0.9992873, 'index': 45, 'word': 'Electric', 'start': 148, 'end': 156}, {'entity': 'I-ORG', 'score': 0.99916434, 'index': 46, 'word': 'City', 'start': 157, 'end': 161}, {'entity': 'I-ORG', 'score': 0.99931455, 'index': 47, 'word': 'Corp', 'start': 162, 'end': 166}, {'entity': 'B-LOC', 'score': 0.93570495, 'index': 51, 'word': 'Delaware', 'start': 172, 'end': 180}, {'entity': 'B-ORG', 'score': 0.93975264, 'index': 55, 'word': 'Company', 'start': 197, 'end': 204}, {'entity': 'B-ORG', 'score': 0.99914503, 'index': 59, 'word': 'Electric', 'start': 212, 'end': 220}, {'entity': 'I-ORG', 'score': 0.99911934, 'index': 60, 'word': 'City', 'start': 221, 'end': 225}, {'entity': 'I-ORG', 'score': 0.99906105, 'index': 61, 'word': 'of', 'start': 226, 'end': 228}, {'entity': 'I-ORG', 'score': 0.99917537, 'index': 62, 'word': 'Illinois', 'start': 229, 'end': 237}, {'entity': 'I-ORG', 'score': 0.99132663, 'index': 63, 'word': 'LLC', 'start': 238, 'end': 241}, {'entity': 'B-ORG', 'score': 0.97157574, 'index': 66, 'word': 'Di', 'start': 244, 'end': 246}, {'entity': 'I-ORG', 'score': 0.86388236, 'index': 67, 'word': '##st', 'start': 246, 'end': 248}, {'entity': 'I-ORG', 'score': 0.6550315, 'index': 68, 'word': '##ri', 'start': 248, 'end': 250}, {'entity': 'I-ORG', 'score': 0.93431085, 'index': 69, 'word': '##but', 'start': 250, 'end': 253}, {'entity': 'I-ORG', 'score': 0.86942935, 'index': 70, 'word': '##or', 'start': 253, 'end': 255}, {'entity': 'B-ORG', 'score': 0.62833095, 'index': 139, 'word': 'Company', 'start': 616, 'end': 623}, {'entity': 'B-ORG', 'score': 0.9354758, 'index': 163, 'word': 'Di', 'start': 767, 'end': 769}, {'entity': 'I-ORG', 'score': 0.96030325, 'index': 166, 'word': '##but', 'start': 773, 'end': 776}, {'entity': 'I-ORG', 'score': 0.8892168, 'index': 167, 'word': '##or', 'start': 776, 'end': 778}, {'entity': 'B-ORG', 'score': 0.63048273, 'index': 180, 'word': 'B', 'start': 842, 'end': 843}, {'entity': 'I-ORG', 'score': 0.9847334, 'index': 182, 'word': 'Rep', 'start': 845, 'end': 848}, {'entity': 'B-ORG', 'score': 0.7074543, 'index': 201, 'word': 'Di', 'start': 931, 'end': 933}, {'entity': 'B-ORG', 'score': 0.8434243, 'index': 236, 'word': 'Di', 'start': 1110, 'end': 1112}, {'entity': 'I-ORG', 'score': 0.5345645, 'index': 239, 'word': '##but', 'start': 1116, 'end': 1119}, {'entity': 'I-ORG', 'score': 0.49649253, 'index': 240, 'word': '##or', 'start': 1119, 'end': 1121}, {'entity': 'B-ORG', 'score': 0.6248578, 'index': 247, 'word': 'Company', 'start': 1157, 'end': 1164}, {'entity': 'I-ORG', 'score': 0.76911485, 'index': 284, 'word': '##but', 'start': 1356, 'end': 1359}, {'entity': 'B-ORG', 'score': 0.71706903, 'index': 293, 'word': 'Di', 'start': 1382, 'end': 1384}, {'entity': 'I-ORG', 'score': 0.55123913, 'index': 296, 'word': '##but', 'start': 1388, 'end': 1391}, {'entity': 'B-ORG', 'score': 0.5864564, 'index': 305, 'word': 'Company', 'start': 1436, 'end': 1443}, {'entity': 'B-LOC', 'score': 0.6896816, 'index': 322, 'word': 'State', 'start': 1537, 'end': 1542}, {'entity': 'B-LOC', 'score': 0.5391086, 'index': 324, 'word': 'Illinois', 'start': 1547, 'end': 1555}, {'entity': 'B-ORG', 'score': 0.6142986, 'index': 380, 'word': 'Company', 'start': 1858, 'end': 1865}]\n"
     ]
    }
   ],
   "source": [
    "contract = ner_service.prep_data()\n",
    "nlp = ner_service.initialise()\n",
    "ner_result = ner_service.predict(contract, nlp)\n",
    "\n",
    "print(ner_result)"
   ]
  },
  {
   "cell_type": "code",
   "execution_count": 7,
   "metadata": {},
   "outputs": [
    {
     "name": "stdout",
     "output_type": "stream",
     "text": [
      "huggingface/tokenizers: The current process just got forked, after parallelism has already been used. Disabling parallelism to avoid deadlocks...\n",
      "To disable this warning, you can either:\n",
      "\t- Avoid using `tokenizers` before the fork if possible\n",
      "\t- Explicitly set the environment variable TOKENIZERS_PARALLELISM=(true | false)\n"
     ]
    },
    {
     "data": {
      "text/plain": [
       "{'score': 0.1840793490409851,\n",
       " 'start': 36591,\n",
       " 'end': 36634,\n",
       " 'answer': 'and which the Company has not repurchased.'}"
      ]
     },
     "execution_count": 7,
     "metadata": {},
     "output_type": "execute_result"
    }
   ],
   "source": [
    "question, contract = qna_service.prep_data()\n",
    "question = \"what are the contract types?\"\n",
    "nlp = qna_service.initialise()\n",
    "#qna_result = qna_service.predict(question[0], contract, nlp)\n",
    "#print(qna_result)\n",
    "answerResp = nlp({\n",
    "    'question' : question, \n",
    "    'context': contract \n",
    "})\n",
    "\n",
    "answerResp"
   ]
  }
 ],
 "metadata": {
  "kernelspec": {
   "display_name": "Python 3.7.9 ('env': venv)",
   "language": "python",
   "name": "python3"
  },
  "language_info": {
   "codemirror_mode": {
    "name": "ipython",
    "version": 3
   },
   "file_extension": ".py",
   "mimetype": "text/x-python",
   "name": "python",
   "nbconvert_exporter": "python",
   "pygments_lexer": "ipython3",
   "version": "3.7.9"
  },
  "orig_nbformat": 4,
  "vscode": {
   "interpreter": {
    "hash": "9e5532c3338948ef3923f84fcb49a3fec3185e68b18b7cb85088cd68c49cbe22"
   }
  }
 },
 "nbformat": 4,
 "nbformat_minor": 2
}
