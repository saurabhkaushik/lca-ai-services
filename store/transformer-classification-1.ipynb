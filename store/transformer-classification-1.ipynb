{
 "cells": [
  {
   "cell_type": "code",
   "execution_count": 1,
   "metadata": {},
   "outputs": [
    {
     "name": "stderr",
     "output_type": "stream",
     "text": [
      "/Users/saurabhkaushik/Workspace/lca-ai-services/env/lib/python3.7/site-packages/tqdm/auto.py:22: TqdmWarning: IProgress not found. Please update jupyter and ipywidgets. See https://ipywidgets.readthedocs.io/en/stable/user_install.html\n",
      "  from .autonotebook import tqdm as notebook_tqdm\n",
      "2022-10-17 15:29:22.260161: I tensorflow/core/platform/cpu_feature_guard.cc:193] This TensorFlow binary is optimized with oneAPI Deep Neural Network Library (oneDNN) to use the following CPU instructions in performance-critical operations:  AVX2 AVX512F AVX512_VNNI FMA\n",
      "To enable them in other operations, rebuild TensorFlow with the appropriate compiler flags.\n"
     ]
    },
    {
     "name": "stdout",
     "output_type": "stream",
     "text": [
      "Dataset >>  {'sentence': 'Broadcasting, Licensing and Wireless referred to ', 'label': 1, 'idx': 0}\n"
     ]
    },
    {
     "ename": "AttributeError",
     "evalue": "'list' object has no attribute 'features'",
     "output_type": "error",
     "traceback": [
      "\u001b[0;31m---------------------------------------------------------------------------\u001b[0m",
      "\u001b[0;31mAttributeError\u001b[0m                            Traceback (most recent call last)",
      "\u001b[0;32m/var/folders/8j/vv0tvcpd46bc13kgm3nd2zsw0000gn/T/ipykernel_43172/1241091566.py\u001b[0m in \u001b[0;36m<module>\u001b[0;34m\u001b[0m\n\u001b[1;32m     70\u001b[0m \u001b[0;34m\u001b[0m\u001b[0m\n\u001b[1;32m     71\u001b[0m \u001b[0mdataset\u001b[0m \u001b[0;34m=\u001b[0m \u001b[0mprep_data\u001b[0m\u001b[0;34m(\u001b[0m\u001b[0;34m)\u001b[0m\u001b[0;34m\u001b[0m\u001b[0;34m\u001b[0m\u001b[0m\n\u001b[0;32m---> 72\u001b[0;31m \u001b[0mprepare_data\u001b[0m\u001b[0;34m(\u001b[0m\u001b[0mdataset\u001b[0m\u001b[0;34m)\u001b[0m\u001b[0;34m\u001b[0m\u001b[0;34m\u001b[0m\u001b[0m\n\u001b[0m",
      "\u001b[0;32m/var/folders/8j/vv0tvcpd46bc13kgm3nd2zsw0000gn/T/ipykernel_43172/1241091566.py\u001b[0m in \u001b[0;36mprepare_data\u001b[0;34m(dataset)\u001b[0m\n\u001b[1;32m     62\u001b[0m         \u001b[0;32mreturn\u001b[0m \u001b[0mtokenizer\u001b[0m\u001b[0;34m(\u001b[0m\u001b[0mexamples\u001b[0m\u001b[0;34m[\u001b[0m\u001b[0msentence1_key\u001b[0m\u001b[0;34m]\u001b[0m\u001b[0;34m,\u001b[0m \u001b[0mexamples\u001b[0m\u001b[0;34m[\u001b[0m\u001b[0msentence2_key\u001b[0m\u001b[0;34m]\u001b[0m\u001b[0;34m,\u001b[0m \u001b[0mtruncation\u001b[0m\u001b[0;34m=\u001b[0m\u001b[0;32mTrue\u001b[0m\u001b[0;34m)\u001b[0m\u001b[0;34m\u001b[0m\u001b[0;34m\u001b[0m\u001b[0m\n\u001b[1;32m     63\u001b[0m \u001b[0;34m\u001b[0m\u001b[0m\n\u001b[0;32m---> 64\u001b[0;31m     \u001b[0mpre_tokenizer_columns\u001b[0m \u001b[0;34m=\u001b[0m \u001b[0mset\u001b[0m\u001b[0;34m(\u001b[0m\u001b[0mdataset\u001b[0m\u001b[0;34m[\u001b[0m\u001b[0;34m\"train\"\u001b[0m\u001b[0;34m]\u001b[0m\u001b[0;34m.\u001b[0m\u001b[0mfeatures\u001b[0m\u001b[0;34m)\u001b[0m\u001b[0;34m\u001b[0m\u001b[0;34m\u001b[0m\u001b[0m\n\u001b[0m\u001b[1;32m     65\u001b[0m     \u001b[0mencoded_dataset\u001b[0m \u001b[0;34m=\u001b[0m \u001b[0mdataset\u001b[0m\u001b[0;34m.\u001b[0m\u001b[0mmap\u001b[0m\u001b[0;34m(\u001b[0m\u001b[0mpreprocess_function\u001b[0m\u001b[0;34m,\u001b[0m \u001b[0mbatched\u001b[0m\u001b[0;34m=\u001b[0m\u001b[0;32mTrue\u001b[0m\u001b[0;34m)\u001b[0m\u001b[0;34m\u001b[0m\u001b[0;34m\u001b[0m\u001b[0m\n\u001b[1;32m     66\u001b[0m     \u001b[0;31m#tokenizer_columns = list(set(encoded_dataset[\"train\"].features) - pre_tokenizer_columns)\u001b[0m\u001b[0;34m\u001b[0m\u001b[0;34m\u001b[0m\u001b[0;34m\u001b[0m\u001b[0m\n",
      "\u001b[0;31mAttributeError\u001b[0m: 'list' object has no attribute 'features'"
     ]
    }
   ],
   "source": [
    "import transformers\n",
    "from transformers import TFAutoModelForSequenceClassification\n",
    "import tensorflow as tf\n",
    "from transformers import create_optimizer\n",
    "from transformers import pipeline\n",
    "from evaluate import load\n",
    "from transformers import AutoTokenizer\n",
    "import json \n",
    "\n",
    "GLUE_TASKS = [\n",
    "    \"cola\",\n",
    "    \"mnli\",\n",
    "    \"mnli-mm\",\n",
    "    \"mrpc\",\n",
    "    \"qnli\",\n",
    "    \"qqp\",\n",
    "    \"rte\",\n",
    "    \"sst2\",\n",
    "    \"stsb\",\n",
    "    \"wnli\",\n",
    "]\n",
    "\n",
    "task_to_keys = {\n",
    "    \"cola\": (\"sentence\", None),\n",
    "    \"mnli\": (\"premise\", \"hypothesis\"),\n",
    "    \"mnli-mm\": (\"premise\", \"hypothesis\"),\n",
    "    \"mrpc\": (\"sentence1\", \"sentence2\"),\n",
    "    \"qnli\": (\"question\", \"sentence\"),\n",
    "    \"qqp\": (\"question1\", \"question2\"),\n",
    "    \"rte\": (\"sentence1\", \"sentence2\"),\n",
    "    \"sst2\": (\"sentence\", None),\n",
    "    \"stsb\": (\"sentence1\", \"sentence2\"),\n",
    "    \"wnli\": (\"sentence1\", \"sentence2\"),\n",
    "}\n",
    "task = \"cola\"\n",
    "model_checkpoint = \"distilbert-base-uncased\"\n",
    "batch_size = 16\n",
    "training_file = \"./cuad-data/test_classification_data.json\"\n",
    "\n",
    "def prep_data():\n",
    "    with open(training_file) as json_file:\n",
    "        data = json.load(json_file)\n",
    "    dataset = data\n",
    "    return dataset\n",
    "\n",
    "def prepare_data(dataset): \n",
    "    actual_task = \"mnli\" if task == \"mnli-mm\" else task\n",
    "    #dataset = load_dataset(\"glue\", actual_task)\n",
    "    #metric = load(\"glue\", actual_task)\n",
    "    print (\"Dataset >> \", dataset[\"train\"][0])\n",
    "\n",
    "    tokenizer = AutoTokenizer.from_pretrained(model_checkpoint)\n",
    "    def preprocess_function(examples):\n",
    "        sentence1_key, sentence2_key = task_to_keys[task]\n",
    "        if sentence2_key is None:\n",
    "            print(f\"Sentence: {dataset['train'][0][sentence1_key]}\")\n",
    "        else:\n",
    "            print(f\"Sentence 1: {dataset['train'][0][sentence1_key]}\")\n",
    "            print(f\"Sentence 2: {dataset['train'][0][sentence2_key]}\")\n",
    "        if sentence2_key is None:\n",
    "            return tokenizer(examples[sentence1_key], truncation=True)\n",
    "        return tokenizer(examples[sentence1_key], examples[sentence2_key], truncation=True)\n",
    "\n",
    "    pre_tokenizer_columns = set(dataset[\"train\"].features)\n",
    "    encoded_dataset = dataset.map(preprocess_function, batched=True)\n",
    "    #tokenizer_columns = list(set(encoded_dataset[\"train\"].features) - pre_tokenizer_columns)\n",
    "    #print(\"Columns added by tokenizer:\", tokenizer_columns)\n",
    "    return encoded_dataset, tokenizer\n",
    "\n",
    "\n",
    "dataset = prep_data()\n",
    "prepare_data(dataset)"
   ]
  },
  {
   "cell_type": "code",
   "execution_count": null,
   "metadata": {},
   "outputs": [],
   "source": [
    "dataset[\"train\"].features"
   ]
  },
  {
   "cell_type": "code",
   "execution_count": null,
   "metadata": {},
   "outputs": [],
   "source": [
    "def training(encoded_dataset, tokenizer): \n",
    "    num_labels = 3 if task.startswith(\"mnli\") else 1 if task == \"stsb\" else 2\n",
    "    if task == \"stsb\":\n",
    "        num_labels = 1\n",
    "    elif task.startswith(\"mnli\"):\n",
    "        num_labels = 3\n",
    "    else:\n",
    "        num_labels = 2\n",
    "        \n",
    "    id2label = {0: \"Invalid\", 1: \"Valid\"}\n",
    "    label2id = {val: key for key, val in id2label.items()}\n",
    "\n",
    "    model = TFAutoModelForSequenceClassification.from_pretrained(\n",
    "        model_checkpoint, num_labels=num_labels, id2label=id2label, label2id=label2id\n",
    "    )\n",
    "\n",
    "    validation_key = (\n",
    "        \"validation_mismatched\"\n",
    "        if task == \"mnli-mm\"\n",
    "        else \"validation_matched\"\n",
    "        if task == \"mnli\"\n",
    "        else \"validation\"\n",
    "    )\n",
    "\n",
    "    tf_train_dataset = model.prepare_tf_dataset(\n",
    "        encoded_dataset[\"train\"],\n",
    "        shuffle=True,\n",
    "        batch_size=16,\n",
    "        tokenizer=tokenizer\n",
    "    )\n",
    "\n",
    "    tf_validation_dataset = model.prepare_tf_dataset(\n",
    "        encoded_dataset[validation_key],\n",
    "        shuffle=False,\n",
    "        batch_size=16,\n",
    "        tokenizer=tokenizer,\n",
    "    )\n",
    "\n",
    "    num_epochs = 1 #3\n",
    "    batches_per_epoch = len(encoded_dataset[\"train\"]) // batch_size\n",
    "    total_train_steps = int(batches_per_epoch * num_epochs)\n",
    "\n",
    "    optimizer, schedule = create_optimizer(\n",
    "        init_lr=2e-5, num_warmup_steps=0, num_train_steps=total_train_steps\n",
    "    )\n",
    "    model.compile(optimizer=optimizer)\n",
    "\n",
    "    model.fit(\n",
    "        tf_train_dataset,\n",
    "        validation_data=tf_validation_dataset,\n",
    "        epochs=num_epochs\n",
    "    )\n",
    "    return model\n",
    "\n"
   ]
  },
  {
   "cell_type": "code",
   "execution_count": null,
   "metadata": {},
   "outputs": [],
   "source": [
    "encoded_dataset, tokenizer = prepare_date()\n",
    "\n",
    "print (\">>>>> encoded_dataset\", encoded_dataset[\"train\"].features[\"label\"])\n",
    "\n",
    "model = training(encoded_dataset, tokenizer)\n",
    "\n",
    "model.push_to_hub(\"my-finetuned-classification_mode\")\n",
    "\n"
   ]
  },
  {
   "cell_type": "code",
   "execution_count": null,
   "metadata": {},
   "outputs": [],
   "source": [
    "def predict(sentences, model): \n",
    "    classifier = pipeline(\"text-classification\", model, framework=\"tf\")\n",
    "    classifier(sentences)\n",
    "\n",
    "sentences = [\n",
    "    \"The judge told the jurors to think carefully.\",\n",
    "    \"The judge told that the jurors to think carefully.\"\n",
    "]\n",
    "predict(sentences, \"my-finetuned-classification_mode\")"
   ]
  },
  {
   "cell_type": "code",
   "execution_count": null,
   "metadata": {},
   "outputs": [],
   "source": [
    "pt_save_directory = \"./pt_save_pretrained\"\n",
    "tokenizer.save_pretrained(pt_save_directory)\n",
    "model.save_pretrained(pt_save_directory)\n",
    "\n",
    "model = TFAutoModelForSequenceClassification.from_pretrained(\"./tf_save_pretrained\")\n"
   ]
  }
 ],
 "metadata": {
  "kernelspec": {
   "display_name": "Python 3.7.9 ('env': venv)",
   "language": "python",
   "name": "python3"
  },
  "language_info": {
   "codemirror_mode": {
    "name": "ipython",
    "version": 3
   },
   "file_extension": ".py",
   "mimetype": "text/x-python",
   "name": "python",
   "nbconvert_exporter": "python",
   "pygments_lexer": "ipython3",
   "version": "3.7.9"
  },
  "orig_nbformat": 4,
  "vscode": {
   "interpreter": {
    "hash": "9e5532c3338948ef3923f84fcb49a3fec3185e68b18b7cb85088cd68c49cbe22"
   }
  }
 },
 "nbformat": 4,
 "nbformat_minor": 2
}
